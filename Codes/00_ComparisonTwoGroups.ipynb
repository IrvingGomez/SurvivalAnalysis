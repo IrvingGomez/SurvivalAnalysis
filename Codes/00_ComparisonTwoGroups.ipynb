{
 "cells": [
  {
   "cell_type": "code",
   "execution_count": 1,
   "metadata": {},
   "outputs": [],
   "source": [
    "import numpy as np\n",
    "import pandas as pd\n",
    "import matplotlib.pyplot as plt\n",
    "\n",
    "from scipy.stats import norm, chi2"
   ]
  },
  {
   "cell_type": "code",
   "execution_count": 2,
   "metadata": {},
   "outputs": [],
   "source": [
    "ALPHA = 0.05"
   ]
  },
  {
   "cell_type": "markdown",
   "metadata": {},
   "source": [
    "Read the data"
   ]
  },
  {
   "cell_type": "code",
   "execution_count": 3,
   "metadata": {},
   "outputs": [
    {
     "name": "stderr",
     "output_type": "stream",
     "text": [
      "<>:1: SyntaxWarning: invalid escape sequence '\\s'\n",
      "<>:1: SyntaxWarning: invalid escape sequence '\\s'\n",
      "/tmp/ipykernel_6247/1354729485.py:1: SyntaxWarning: invalid escape sequence '\\s'\n",
      "  DatOriginal = pd.read_csv(\"DatasetsMedicalResearch/Prognosis for women with breast cancer.dat\", sep=\"\\s+\")\n"
     ]
    }
   ],
   "source": [
    "DatOriginal = pd.read_csv(\"DatasetsMedicalResearch/Prognosis for women with breast cancer.dat\", sep=\"\\s+\")\n",
    "DatOriginal = DatOriginal.rename({'time':'Time'}, axis=1)\n",
    "DatOriginal['Censored'] = (DatOriginal['status']-1)*(-1)"
   ]
  },
  {
   "cell_type": "markdown",
   "metadata": {},
   "source": [
    "Split the data for each group"
   ]
  },
  {
   "cell_type": "code",
   "execution_count": 4,
   "metadata": {},
   "outputs": [],
   "source": [
    "DatOriginalNegative = DatOriginal[DatOriginal['stain']==1]\n",
    "DatOriginalNegative = DatOriginalNegative[['Time', 'Censored']]"
   ]
  },
  {
   "cell_type": "code",
   "execution_count": 5,
   "metadata": {},
   "outputs": [],
   "source": [
    "DatOriginalPositive = DatOriginal[DatOriginal['stain']==2]\n",
    "DatOriginalPositive = DatOriginalPositive[['Time', 'Censored']]"
   ]
  },
  {
   "cell_type": "markdown",
   "metadata": {},
   "source": [
    "---"
   ]
  },
  {
   "cell_type": "markdown",
   "metadata": {},
   "source": [
    "Function to create the life-table"
   ]
  },
  {
   "cell_type": "code",
   "execution_count": 6,
   "metadata": {},
   "outputs": [],
   "source": [
    "def CreateLifeTable(data):\n",
    "\n",
    "    datalifetable = pd.DataFrame(\n",
    "        {\n",
    "            'tj': np.unique([0] + data.loc[data['Censored']==0, 'Time'].sort_values().to_list())\n",
    "        }\n",
    "    )\n",
    "\n",
    "    datalifetable = datalifetable.reset_index(drop=True)\n",
    "\n",
    "    datalifetable['tj+1'] = datalifetable['tj'].to_list()[1:] + [np.inf]\n",
    "\n",
    "    n_list, d_list, c_list = [], [], []\n",
    "\n",
    "    for j in range(len(datalifetable)):\n",
    "        \n",
    "        if j==0:\n",
    "            n = len(data)\n",
    "        else:\n",
    "            n = n-d-c\n",
    "\n",
    "        d = sum(data.loc[data['Censored']==0, 'Time'] == datalifetable.loc[j]['tj'])\n",
    "        c = sum(\n",
    "                (data.loc[data['Censored']==1, 'Time'] >= datalifetable.loc[j]['tj']) \n",
    "                & (data.loc[data['Censored']==1, 'Time'] < datalifetable.loc[j]['tj+1'])\n",
    "            )\n",
    "\n",
    "        n_list.append(n)\n",
    "        d_list.append(d)\n",
    "        c_list.append(c)\n",
    "\n",
    "    datalifetable['nj'] = n_list\n",
    "    datalifetable['dj'] = d_list\n",
    "    datalifetable['cj'] = c_list\n",
    "\n",
    "    return datalifetable"
   ]
  },
  {
   "cell_type": "markdown",
   "metadata": {},
   "source": [
    "Function to create the life-table of the combined groups"
   ]
  },
  {
   "cell_type": "code",
   "execution_count": 7,
   "metadata": {},
   "outputs": [],
   "source": [
    "def CreateLifeTableCombined(data, datagroup1, datagroup2):\n",
    "\n",
    "    datalifetablecombined = pd.DataFrame(\n",
    "        {\n",
    "            'tj': np.unique([0] + data.loc[data['Censored']==0, 'Time'].sort_values().to_list())\n",
    "        }\n",
    "    )\n",
    "\n",
    "    datalifetablecombined = datalifetablecombined.reset_index(drop=True)\n",
    "\n",
    "    datalifetablecombined['tj+1'] = datalifetablecombined['tj'].to_list()[1:] + [np.inf]\n",
    "\n",
    "    n1_list, d1_list, c1_list = [], [], []\n",
    "    n2_list, d2_list, c2_list = [], [], []\n",
    "\n",
    "    for j in range(len(datalifetablecombined)):\n",
    "        \n",
    "        if j==0:\n",
    "            n1 = len(datagroup1)\n",
    "            n2 = len(datagroup2)\n",
    "        else:\n",
    "            n1 = n1-d1-c1\n",
    "            n2 = n2-d2-c2\n",
    "\n",
    "        d1 = sum(data.loc[(data['Censored']==0) & (data['stain']==1), 'Time'] == datalifetablecombined.loc[j]['tj'])\n",
    "        c1 = sum(\n",
    "                (data.loc[(data['Censored']==1) & (data['stain']==1), 'Time'] >= datalifetablecombined.loc[j]['tj']) \n",
    "                & (data.loc[(data['Censored']==1) & (data['stain']==1), 'Time'] < datalifetablecombined.loc[j]['tj+1'])\n",
    "            )\n",
    "\n",
    "        d2 = sum(data.loc[(data['Censored']==0) & (data['stain']==2), 'Time'] == datalifetablecombined.loc[j]['tj'])\n",
    "        c2 = sum(\n",
    "                (data.loc[(data['Censored']==1) & (data['stain']==2), 'Time'] >= datalifetablecombined.loc[j]['tj']) \n",
    "                & (data.loc[(data['Censored']==1) & (data['stain']==2), 'Time'] < datalifetablecombined.loc[j]['tj+1'])\n",
    "            )\n",
    "\n",
    "        n1_list.append(n1)\n",
    "        d1_list.append(d1)\n",
    "\n",
    "        n2_list.append(n2)\n",
    "        d2_list.append(d2)\n",
    "\n",
    "    datalifetablecombined['n1j'] = n1_list\n",
    "    datalifetablecombined['d1j'] = d1_list\n",
    "\n",
    "    datalifetablecombined['n2j'] = n2_list\n",
    "    datalifetablecombined['d2j'] = d2_list\n",
    "\n",
    "    datalifetablecombined['nj'] = datalifetablecombined['n1j'] + datalifetablecombined['n2j']\n",
    "    datalifetablecombined['dj'] = datalifetablecombined['d1j'] + datalifetablecombined['d2j']\n",
    "\n",
    "    datalifetablecombined['e1j'] = datalifetablecombined['n1j'] * datalifetablecombined['dj'] / datalifetablecombined['nj']\n",
    "    datalifetablecombined['v1j'] = datalifetablecombined['n1j'] * datalifetablecombined['n2j'] * datalifetablecombined['dj'] * (datalifetablecombined['nj'] - datalifetablecombined['dj']) / (datalifetablecombined['nj']**2 * (datalifetablecombined['nj']-1))\n",
    "\n",
    "    return datalifetablecombined"
   ]
  },
  {
   "cell_type": "markdown",
   "metadata": {},
   "source": [
    "Function to calculate the survivor function, cumulative hazard function, and hazard function using the Kaplan-Meier approach"
   ]
  },
  {
   "cell_type": "code",
   "execution_count": 8,
   "metadata": {},
   "outputs": [],
   "source": [
    "def KaplanMeier(datalifetable):\n",
    "    datakm = datalifetable.copy()\n",
    "\n",
    "    # Estimate survivor function, cumulative hazard function and hazard function\n",
    "    datakm['Survivor'] = np.cumprod((datakm['nj'] - datakm['dj']) / datakm['nj'])\n",
    "    datakm['CumHazard'] = -np.log(datakm['Survivor'])\n",
    "    datakm['Hazard'] = datakm['dj'] / (datakm['nj'] * (datakm['tj+1'] - datakm['tj']))\n",
    "\n",
    "    # Estimate standard deviation of the cumulative hazard function, and survivor function\n",
    "    datakm['StdCumHazard'] = np.sqrt(np.cumsum(datakm['dj'] / (datakm['nj'] * (datakm['nj'] - datakm['dj']))))\n",
    "    datakm['StdSurvivor'] = datakm['Survivor'] * datakm['StdCumHazard']\n",
    "\n",
    "    return datakm"
   ]
  },
  {
   "cell_type": "markdown",
   "metadata": {},
   "source": [
    "Function to compute confidence intervals for the cumulative hazard function, and the survivor function"
   ]
  },
  {
   "cell_type": "code",
   "execution_count": 9,
   "metadata": {},
   "outputs": [],
   "source": [
    "def GetConfidenceInterval(datasurvivor, alpha):\n",
    "\n",
    "    datasurvivor['LowerLogCumHazar'] = norm.ppf(alpha/2, np.log(datasurvivor['CumHazard']), datasurvivor['StdCumHazard'] / datasurvivor['CumHazard'])\n",
    "    datasurvivor['UpperLogCumHazar'] = norm.ppf(1-alpha/2, np.log(datasurvivor['CumHazard']), datasurvivor['StdCumHazard'] / datasurvivor['CumHazard'])\n",
    "\n",
    "    datasurvivor['LowerCumHazard'] = np.exp(datasurvivor['LowerLogCumHazar'])\n",
    "    datasurvivor['UpperCumHazard'] = np.exp(datasurvivor['UpperLogCumHazar'])\n",
    "\n",
    "    datasurvivor['LowerSurvivor'] = np.exp(-datasurvivor['UpperCumHazard'])\n",
    "    datasurvivor['UpperSurvivor'] = np.exp(-datasurvivor['LowerCumHazard'])\n",
    "    \n",
    "    datasurvivor = datasurvivor.drop(['LowerLogCumHazar', 'UpperLogCumHazar'], axis=1)\n",
    "    \n",
    "    return datasurvivor"
   ]
  },
  {
   "cell_type": "code",
   "execution_count": 10,
   "metadata": {},
   "outputs": [],
   "source": [
    "def HypothesisNoDifference(datasurvivorcombined):\n",
    "\n",
    "    # log-rank test\n",
    "    Ul = sum(datasurvivorcombined['d1j'] - datasurvivorcombined['e1j'])\n",
    "    Vl = sum(datasurvivorcombined['v1j'])\n",
    "\n",
    "    Wl = Ul**2 / Vl\n",
    "\n",
    "    # Wilcoxon test\n",
    "    Uw = sum(datasurvivorcombined['nj']*(datasurvivorcombined['d1j'] - datasurvivorcombined['e1j']))\n",
    "    Vw = sum(datasurvivorcombined['nj']**2*datasurvivorcombined['v1j'])\n",
    "\n",
    "    Ww = Uw**2 / Vw\n",
    "\n",
    "    # Peto-Peto test\n",
    "    Up = sum(datasurvivorcombined['Survivor']*(datasurvivorcombined['d1j'] - datasurvivorcombined['e1j']))\n",
    "    Vp = sum(datasurvivorcombined['Survivor']**2*datasurvivorcombined['v1j'])\n",
    "\n",
    "    Wp = Up**2 / Vp\n",
    "\n",
    "    return pd.DataFrame(\n",
    "        {\n",
    "            'Statistic':[Wl, Ww, Wp],\n",
    "            'PValue':[chi2.sf(Wl, 1), chi2.sf(Ww, 1), chi2.sf(Wp, 1)]\n",
    "        },\n",
    "        index=['Log-rank', 'Wilcoxon', 'Peto-Peto']\n",
    "    )"
   ]
  },
  {
   "cell_type": "markdown",
   "metadata": {},
   "source": [
    "---"
   ]
  },
  {
   "cell_type": "code",
   "execution_count": 11,
   "metadata": {},
   "outputs": [],
   "source": [
    "DatLifeTableNegative = CreateLifeTable(DatOriginalNegative)\n",
    "DatLifeTablePositive = CreateLifeTable(DatOriginalPositive)"
   ]
  },
  {
   "cell_type": "code",
   "execution_count": 12,
   "metadata": {},
   "outputs": [
    {
     "name": "stderr",
     "output_type": "stream",
     "text": [
      "/home/dmitri/.local/lib/python3.12/site-packages/pandas/core/arraylike.py:399: RuntimeWarning: divide by zero encountered in log\n",
      "  result = getattr(ufunc, method)(*inputs, **kwargs)\n",
      "/home/dmitri/.local/lib/python3.12/site-packages/pandas/core/arraylike.py:399: RuntimeWarning: divide by zero encountered in log\n",
      "  result = getattr(ufunc, method)(*inputs, **kwargs)\n",
      "/home/dmitri/.local/lib/python3.12/site-packages/pandas/core/arraylike.py:399: RuntimeWarning: divide by zero encountered in log\n",
      "  result = getattr(ufunc, method)(*inputs, **kwargs)\n",
      "/home/dmitri/.local/lib/python3.12/site-packages/pandas/core/arraylike.py:399: RuntimeWarning: divide by zero encountered in log\n",
      "  result = getattr(ufunc, method)(*inputs, **kwargs)\n"
     ]
    }
   ],
   "source": [
    "DatKaplanMeierNegative = KaplanMeier(DatLifeTableNegative)\n",
    "DatKaplanMeierNegative = GetConfidenceInterval(DatKaplanMeierNegative, ALPHA)\n",
    "\n",
    "DatKaplanMeierPositive = KaplanMeier(DatLifeTablePositive)\n",
    "DatKaplanMeierPositive = GetConfidenceInterval(DatKaplanMeierPositive, ALPHA)"
   ]
  },
  {
   "cell_type": "code",
   "execution_count": 13,
   "metadata": {},
   "outputs": [
    {
     "data": {
      "text/plain": [
       "<matplotlib.legend.Legend at 0x759f587cec00>"
      ]
     },
     "execution_count": 13,
     "metadata": {},
     "output_type": "execute_result"
    },
    {
     "data": {
      "image/png": "[encoded data removed]",
      "text/plain": [
       "<Figure size 640x480 with 1 Axes>"
      ]
     },
     "metadata": {},
     "output_type": "display_data"
    }
   ],
   "source": [
    "plt.fill_between(\n",
    "    DatKaplanMeierNegative['tj'],\n",
    "    DatKaplanMeierNegative['LowerSurvivor'],\n",
    "    DatKaplanMeierNegative['UpperSurvivor'],\n",
    "    step='post',\n",
    "    alpha=0.5,\n",
    "    color='rebeccapurple'\n",
    ")\n",
    "plt.step(DatKaplanMeierNegative['tj'], DatKaplanMeierNegative['Survivor'], where='post', color='rebeccapurple', label='Stain Negative')\n",
    "\n",
    "plt.fill_between(\n",
    "    DatKaplanMeierPositive['tj'],\n",
    "    DatKaplanMeierPositive['LowerSurvivor'],\n",
    "    DatKaplanMeierPositive['UpperSurvivor'],\n",
    "    step='post',\n",
    "    alpha=0.5,\n",
    "    color='red'\n",
    ")\n",
    "plt.step(DatKaplanMeierPositive['tj'], DatKaplanMeierPositive['Survivor'], where='post', color='red', label='Stain Positive')\n",
    "\n",
    "plt.title(\"Survivor function for women with brest cancer\")\n",
    "plt.legend()"
   ]
  },
  {
   "cell_type": "code",
   "execution_count": 14,
   "metadata": {},
   "outputs": [
    {
     "data": {
      "text/plain": [
       "<matplotlib.legend.Legend at 0x759f58178a40>"
      ]
     },
     "execution_count": 14,
     "metadata": {},
     "output_type": "execute_result"
    },
    {
     "data": {
      "image/png": "[encoded data removed]",
      "text/plain": [
       "<Figure size 640x480 with 1 Axes>"
      ]
     },
     "metadata": {},
     "output_type": "display_data"
    }
   ],
   "source": [
    "plt.step(DatKaplanMeierNegative['tj'], DatKaplanMeierNegative['Survivor'], where='post', color='rebeccapurple', label='Stain Negative')\n",
    "plt.step(DatKaplanMeierPositive['tj'], DatKaplanMeierPositive['Survivor'], where='post', color='red', label='Stain Positive')\n",
    "\n",
    "plt.title(\"Survivor function for women with brest cancer\")\n",
    "plt.legend()"
   ]
  },
  {
   "cell_type": "code",
   "execution_count": 15,
   "metadata": {},
   "outputs": [],
   "source": [
    "DatLifeTableCombined = CreateLifeTableCombined(DatOriginal, DatOriginalNegative, DatOriginalPositive)\n",
    "DatKaplanMeierCombined = KaplanMeier(DatLifeTableCombined)"
   ]
  },
  {
   "cell_type": "code",
   "execution_count": 16,
   "metadata": {},
   "outputs": [
    {
     "data": {
      "text/plain": [
       "<matplotlib.legend.Legend at 0x759f5804a900>"
      ]
     },
     "execution_count": 16,
     "metadata": {},
     "output_type": "execute_result"
    },
    {
     "data": {
      "image/png": "[encoded data removed]",
      "text/plain": [
       "<Figure size 640x480 with 1 Axes>"
      ]
     },
     "metadata": {},
     "output_type": "display_data"
    }
   ],
   "source": [
    "plt.step(DatKaplanMeierNegative['tj'], DatKaplanMeierNegative['Survivor'], where='post', color='rebeccapurple', label='Stain Negative')\n",
    "plt.step(DatKaplanMeierPositive['tj'], DatKaplanMeierPositive['Survivor'], where='post', color='red', label='Stain Positive')\n",
    "plt.step(DatKaplanMeierCombined['tj'], DatKaplanMeierCombined['Survivor'], where='post', color='k', label='Combined')\n",
    "\n",
    "plt.title(\"Survivor function for women with brest cancer\")\n",
    "plt.legend()"
   ]
  },
  {
   "cell_type": "code",
   "execution_count": 17,
   "metadata": {},
   "outputs": [
    {
     "data": {
      "text/html": [
       "<div>\n",
       "<style scoped>\n",
       "    .dataframe tbody tr th:only-of-type {\n",
       "        vertical-align: middle;\n",
       "    }\n",
       "\n",
       "    .dataframe tbody tr th {\n",
       "        vertical-align: top;\n",
       "    }\n",
       "\n",
       "    .dataframe thead th {\n",
       "        text-align: right;\n",
       "    }\n",
       "</style>\n",
       "<table border=\"1\" class=\"dataframe\">\n",
       "  <thead>\n",
       "    <tr style=\"text-align: right;\">\n",
       "      <th></th>\n",
       "      <th>Statistic</th>\n",
       "      <th>PValue</th>\n",
       "    </tr>\n",
       "  </thead>\n",
       "  <tbody>\n",
       "    <tr>\n",
       "      <th>Log-rank</th>\n",
       "      <td>3.514993</td>\n",
       "      <td>0.060816</td>\n",
       "    </tr>\n",
       "    <tr>\n",
       "      <th>Wilcoxon</th>\n",
       "      <td>4.179966</td>\n",
       "      <td>0.040905</td>\n",
       "    </tr>\n",
       "    <tr>\n",
       "      <th>Peto-Peto</th>\n",
       "      <td>4.135244</td>\n",
       "      <td>0.041999</td>\n",
       "    </tr>\n",
       "  </tbody>\n",
       "</table>\n",
       "</div>"
      ],
      "text/plain": [
       "           Statistic    PValue\n",
       "Log-rank    3.514993  0.060816\n",
       "Wilcoxon    4.179966  0.040905\n",
       "Peto-Peto   4.135244  0.041999"
      ]
     },
     "execution_count": 17,
     "metadata": {},
     "output_type": "execute_result"
    }
   ],
   "source": [
    "HypothesisNoDifference(DatKaplanMeierCombined)"
   ]
  }
 ],
 "metadata": {
  "kernelspec": {
   "display_name": "Python 3",
   "language": "python",
   "name": "python3"
  },
  "language_info": {
   "codemirror_mode": {
    "name": "ipython",
    "version": 3
   },
   "file_extension": ".py",
   "mimetype": "text/x-python",
   "name": "python",
   "nbconvert_exporter": "python",
   "pygments_lexer": "ipython3",
   "version": "3.12.4"
  }
 },
 "nbformat": 4,
 "nbformat_minor": 2
}
