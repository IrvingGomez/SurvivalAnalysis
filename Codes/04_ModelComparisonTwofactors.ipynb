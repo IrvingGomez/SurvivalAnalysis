{
 "cells": [
  {
   "cell_type": "code",
   "execution_count": 1,
   "metadata": {},
   "outputs": [],
   "source": [
    "import numpy as np\n",
    "import pandas as pd\n",
    "\n",
    "from scipy.stats import chi2\n",
    "from lifelines import CoxPHFitter"
   ]
  },
  {
   "cell_type": "markdown",
   "metadata": {},
   "source": [
    "Read the data"
   ]
  },
  {
   "cell_type": "code",
   "execution_count": 2,
   "metadata": {},
   "outputs": [
    {
     "name": "stderr",
     "output_type": "stream",
     "text": [
      "<>:1: SyntaxWarning: invalid escape sequence '\\s'\n",
      "<>:1: SyntaxWarning: invalid escape sequence '\\s'\n",
      "/tmp/ipykernel_4119/2990632959.py:1: SyntaxWarning: invalid escape sequence '\\s'\n",
      "  DatOriginal = pd.read_csv(\"DatasetsMedicalResearch/Treatment of hypernephroma.dat\", sep=\"\\s+\")\n"
     ]
    }
   ],
   "source": [
    "DatOriginal = pd.read_csv(\"DatasetsMedicalResearch/Treatment of hypernephroma.dat\", sep=\"\\s+\")"
   ]
  },
  {
   "cell_type": "code",
   "execution_count": 3,
   "metadata": {},
   "outputs": [
    {
     "data": {
      "text/html": [
       "<div>\n",
       "<style scoped>\n",
       "    .dataframe tbody tr th:only-of-type {\n",
       "        vertical-align: middle;\n",
       "    }\n",
       "\n",
       "    .dataframe tbody tr th {\n",
       "        vertical-align: top;\n",
       "    }\n",
       "\n",
       "    .dataframe thead th {\n",
       "        text-align: right;\n",
       "    }\n",
       "</style>\n",
       "<table border=\"1\" class=\"dataframe\">\n",
       "  <thead>\n",
       "    <tr style=\"text-align: right;\">\n",
       "      <th></th>\n",
       "      <th>nephrectomy</th>\n",
       "      <th>age</th>\n",
       "      <th>time</th>\n",
       "      <th>status</th>\n",
       "    </tr>\n",
       "  </thead>\n",
       "  <tbody>\n",
       "    <tr>\n",
       "      <th>0</th>\n",
       "      <td>0</td>\n",
       "      <td>1</td>\n",
       "      <td>9</td>\n",
       "      <td>1</td>\n",
       "    </tr>\n",
       "    <tr>\n",
       "      <th>1</th>\n",
       "      <td>0</td>\n",
       "      <td>1</td>\n",
       "      <td>6</td>\n",
       "      <td>1</td>\n",
       "    </tr>\n",
       "    <tr>\n",
       "      <th>2</th>\n",
       "      <td>0</td>\n",
       "      <td>1</td>\n",
       "      <td>21</td>\n",
       "      <td>1</td>\n",
       "    </tr>\n",
       "    <tr>\n",
       "      <th>3</th>\n",
       "      <td>0</td>\n",
       "      <td>2</td>\n",
       "      <td>15</td>\n",
       "      <td>1</td>\n",
       "    </tr>\n",
       "    <tr>\n",
       "      <th>4</th>\n",
       "      <td>0</td>\n",
       "      <td>2</td>\n",
       "      <td>8</td>\n",
       "      <td>1</td>\n",
       "    </tr>\n",
       "  </tbody>\n",
       "</table>\n",
       "</div>"
      ],
      "text/plain": [
       "   nephrectomy  age  time  status\n",
       "0            0    1     9       1\n",
       "1            0    1     6       1\n",
       "2            0    1    21       1\n",
       "3            0    2    15       1\n",
       "4            0    2     8       1"
      ]
     },
     "execution_count": 3,
     "metadata": {},
     "output_type": "execute_result"
    }
   ],
   "source": [
    "DatOriginal.head()"
   ]
  },
  {
   "cell_type": "markdown",
   "metadata": {},
   "source": [
    "---"
   ]
  },
  {
   "cell_type": "markdown",
   "metadata": {},
   "source": [
    "Function that calculates the test stadistic and $P$-value to compare two nested models based on the log-likelihood ratio test."
   ]
  },
  {
   "cell_type": "code",
   "execution_count": 4,
   "metadata": {},
   "outputs": [],
   "source": [
    "def LoglikeRatioTest(minus2loglike_model1, minus2loglike_model2, df_model1, df_model2):\n",
    "    # model1 must be nested in model2, i.e. model2 has more variables than model1\n",
    "    test_statistic = minus2loglike_model1 - minus2loglike_model2\n",
    "    p_value = chi2.sf(test_statistic, df_model2-df_model1)\n",
    "    return test_statistic, p_value"
   ]
  },
  {
   "cell_type": "markdown",
   "metadata": {},
   "source": [
    "---"
   ]
  },
  {
   "cell_type": "markdown",
   "metadata": {},
   "source": [
    "The data only has four prognostic variables: age, shb, size, and index.\n",
    "\n",
    "We can create a model for each possible combination of these variables, i.e., we can build 16 models."
   ]
  },
  {
   "cell_type": "code",
   "execution_count": 5,
   "metadata": {},
   "outputs": [],
   "source": [
    "formulas = [\n",
    "    'C(age)', 'C(nephrectomy)', 'C(age)+C(nephrectomy)', 'C(age)+C(nephrectomy)+C(age)*C(nephrectomy)'\n",
    "]\n",
    "\n",
    "MinusTwoLogLike = []\n",
    "Aic = []\n",
    "DegreesFreedom = []\n",
    "\n",
    "for i,f in enumerate(formulas):\n",
    "\n",
    "    cph = CoxPHFitter()\n",
    "    Model = cph.fit(DatOriginal, 'time', 'status', formula=f)\n",
    "\n",
    "    if i==0:\n",
    "        _ = -2*Model.log_likelihood_ + Model.log_likelihood_ratio_test().test_statistic\n",
    "        MinusTwoLogLike.append(_)\n",
    "        DegreesFreedom.append(0)\n",
    "        Aic.append(_)\n",
    "\n",
    "    MinusTwoLogLike.append(-2*Model.log_likelihood_)\n",
    "    DegreesFreedom.append(len(Model.summary))\n",
    "    Aic.append(Model.AIC_partial_)\n",
    "\n",
    "formulas.insert(0, 'None')\n",
    "\n",
    "ModelSummary = pd.DataFrame({'formula': formulas, '-2log-L': MinusTwoLogLike, 'AIC': Aic, 'df': DegreesFreedom})"
   ]
  },
  {
   "cell_type": "code",
   "execution_count": 6,
   "metadata": {},
   "outputs": [
    {
     "data": {
      "text/html": [
       "<div>\n",
       "<style scoped>\n",
       "    .dataframe tbody tr th:only-of-type {\n",
       "        vertical-align: middle;\n",
       "    }\n",
       "\n",
       "    .dataframe tbody tr th {\n",
       "        vertical-align: top;\n",
       "    }\n",
       "\n",
       "    .dataframe thead th {\n",
       "        text-align: right;\n",
       "    }\n",
       "</style>\n",
       "<table border=\"1\" class=\"dataframe\">\n",
       "  <thead>\n",
       "    <tr style=\"text-align: right;\">\n",
       "      <th></th>\n",
       "      <th>formula</th>\n",
       "      <th>-2log-L</th>\n",
       "      <th>AIC</th>\n",
       "      <th>df</th>\n",
       "    </tr>\n",
       "  </thead>\n",
       "  <tbody>\n",
       "    <tr>\n",
       "      <th>0</th>\n",
       "      <td>None</td>\n",
       "      <td>176.586</td>\n",
       "      <td>176.586</td>\n",
       "      <td>0</td>\n",
       "    </tr>\n",
       "    <tr>\n",
       "      <th>1</th>\n",
       "      <td>C(age)</td>\n",
       "      <td>170.801</td>\n",
       "      <td>174.801</td>\n",
       "      <td>2</td>\n",
       "    </tr>\n",
       "    <tr>\n",
       "      <th>2</th>\n",
       "      <td>C(nephrectomy)</td>\n",
       "      <td>169.022</td>\n",
       "      <td>171.022</td>\n",
       "      <td>1</td>\n",
       "    </tr>\n",
       "    <tr>\n",
       "      <th>3</th>\n",
       "      <td>C(age)+C(nephrectomy)</td>\n",
       "      <td>164.223</td>\n",
       "      <td>170.223</td>\n",
       "      <td>3</td>\n",
       "    </tr>\n",
       "    <tr>\n",
       "      <th>4</th>\n",
       "      <td>C(age)+C(nephrectomy)+C(age)*C(nephrectomy)</td>\n",
       "      <td>160.833</td>\n",
       "      <td>170.833</td>\n",
       "      <td>5</td>\n",
       "    </tr>\n",
       "  </tbody>\n",
       "</table>\n",
       "</div>"
      ],
      "text/plain": [
       "                                       formula  -2log-L      AIC  df\n",
       "0                                         None  176.586  176.586   0\n",
       "1                                       C(age)  170.801  174.801   2\n",
       "2                               C(nephrectomy)  169.022  171.022   1\n",
       "3                        C(age)+C(nephrectomy)  164.223  170.223   3\n",
       "4  C(age)+C(nephrectomy)+C(age)*C(nephrectomy)  160.833  170.833   5"
      ]
     },
     "execution_count": 6,
     "metadata": {},
     "output_type": "execute_result"
    }
   ],
   "source": [
    "ModelSummary.round(3)"
   ]
  },
  {
   "cell_type": "markdown",
   "metadata": {},
   "source": [
    "Is there an interaction between age and nephrectomy?"
   ]
  },
  {
   "cell_type": "code",
   "execution_count": 7,
   "metadata": {},
   "outputs": [
    {
     "data": {
      "text/plain": [
       "array([3.39 , 0.184])"
      ]
     },
     "execution_count": 7,
     "metadata": {},
     "output_type": "execute_result"
    }
   ],
   "source": [
    "# Comparing model C(age)+C(nephrectomy)+C(age)*C(nephrectomy) against model C(age)+C(nephectomy), i.e. omitting C(age)*C(nephrectomy)\n",
    "np.round(LoglikeRatioTest(\n",
    "    ModelSummary.loc[3]['-2log-L'],\n",
    "    ModelSummary.loc[4]['-2log-L'],\n",
    "    ModelSummary.loc[3]['df'],\n",
    "    ModelSummary.loc[4]['df']\n",
    "),3)\n",
    "\n",
    "#We do not reject the null hypothesis. So, there is no interaction between age and nephrectomy"
   ]
  },
  {
   "cell_type": "markdown",
   "metadata": {},
   "source": [
    "Is age needed in the model?"
   ]
  },
  {
   "cell_type": "code",
   "execution_count": 8,
   "metadata": {},
   "outputs": [
    {
     "data": {
      "text/plain": [
       "array([4.799, 0.091])"
      ]
     },
     "execution_count": 8,
     "metadata": {},
     "output_type": "execute_result"
    }
   ],
   "source": [
    "# Comparing model C(age)+C(nephrectomy) against model C(nephectomy), i.e. omitting C(age)\n",
    "np.round(LoglikeRatioTest(\n",
    "    ModelSummary.loc[2]['-2log-L'],\n",
    "    ModelSummary.loc[3]['-2log-L'],\n",
    "    ModelSummary.loc[2]['df'],\n",
    "    ModelSummary.loc[3]['df']\n",
    "),3)\n",
    "\n",
    "#We reject the null hypothesis. So, we need age"
   ]
  },
  {
   "cell_type": "markdown",
   "metadata": {},
   "source": [
    "Is age nephrectomy in the model?"
   ]
  },
  {
   "cell_type": "code",
   "execution_count": 9,
   "metadata": {},
   "outputs": [
    {
     "data": {
      "text/plain": [
       "array([6.577, 0.01 ])"
      ]
     },
     "execution_count": 9,
     "metadata": {},
     "output_type": "execute_result"
    }
   ],
   "source": [
    "# Comparing model C(age)+C(nephrectomy) against model C(age), i.e. omitting C(nephrectomy)\n",
    "np.round(LoglikeRatioTest(\n",
    "    ModelSummary.loc[1]['-2log-L'],\n",
    "    ModelSummary.loc[3]['-2log-L'],\n",
    "    ModelSummary.loc[1]['df'],\n",
    "    ModelSummary.loc[3]['df']\n",
    "),3)\n",
    "\n",
    "#We reject the null hypothesis. So, we need nephrectomy"
   ]
  },
  {
   "cell_type": "markdown",
   "metadata": {},
   "source": [
    "We could have checked the model with the smallest AIC"
   ]
  },
  {
   "cell_type": "code",
   "execution_count": 11,
   "metadata": {},
   "outputs": [
    {
     "data": {
      "text/plain": [
       "formula    C(age)+C(nephrectomy)\n",
       "-2log-L               164.223322\n",
       "AIC                   170.223322\n",
       "df                             3\n",
       "Name: 3, dtype: object"
      ]
     },
     "execution_count": 11,
     "metadata": {},
     "output_type": "execute_result"
    }
   ],
   "source": [
    "ModelSummary.loc[ModelSummary['AIC'].argmin()]"
   ]
  }
 ],
 "metadata": {
  "kernelspec": {
   "display_name": "Python 3",
   "language": "python",
   "name": "python3"
  },
  "language_info": {
   "codemirror_mode": {
    "name": "ipython",
    "version": 3
   },
   "file_extension": ".py",
   "mimetype": "text/x-python",
   "name": "python",
   "nbconvert_exporter": "python",
   "pygments_lexer": "ipython3",
   "version": "3.12.4"
  }
 },
 "nbformat": 4,
 "nbformat_minor": 2
}
