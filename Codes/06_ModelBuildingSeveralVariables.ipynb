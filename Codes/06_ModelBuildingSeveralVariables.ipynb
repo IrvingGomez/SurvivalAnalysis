{
 "cells": [
  {
   "cell_type": "markdown",
   "metadata": {},
   "source": [
    "# Building models to compare two treatments for prostatic cancer"
   ]
  },
  {
   "cell_type": "code",
   "execution_count": 1,
   "metadata": {},
   "outputs": [],
   "source": [
    "import numpy as np\n",
    "import pandas as pd\n",
    "\n",
    "from scipy.stats import chi2\n",
    "from lifelines import CoxPHFitter"
   ]
  },
  {
   "cell_type": "markdown",
   "metadata": {},
   "source": [
    "Read the data"
   ]
  },
  {
   "cell_type": "code",
   "execution_count": 2,
   "metadata": {},
   "outputs": [
    {
     "name": "stderr",
     "output_type": "stream",
     "text": [
      "<>:1: SyntaxWarning: invalid escape sequence '\\s'\n",
      "<>:1: SyntaxWarning: invalid escape sequence '\\s'\n",
      "/tmp/ipykernel_2680/2411974984.py:1: SyntaxWarning: invalid escape sequence '\\s'\n",
      "  DatOriginal = pd.read_csv(\"DatasetsMedicalResearch/Survival of multiple myeloma patients.dat\", sep=\"\\s+\")\n"
     ]
    }
   ],
   "source": [
    "DatOriginal = pd.read_csv(\"DatasetsMedicalResearch/Survival of multiple myeloma patients.dat\", sep=\"\\s+\")"
   ]
  },
  {
   "cell_type": "code",
   "execution_count": 3,
   "metadata": {},
   "outputs": [
    {
     "data": {
      "text/html": [
       "<div>\n",
       "<style scoped>\n",
       "    .dataframe tbody tr th:only-of-type {\n",
       "        vertical-align: middle;\n",
       "    }\n",
       "\n",
       "    .dataframe tbody tr th {\n",
       "        vertical-align: top;\n",
       "    }\n",
       "\n",
       "    .dataframe thead th {\n",
       "        text-align: right;\n",
       "    }\n",
       "</style>\n",
       "<table border=\"1\" class=\"dataframe\">\n",
       "  <thead>\n",
       "    <tr style=\"text-align: right;\">\n",
       "      <th></th>\n",
       "      <th>patient</th>\n",
       "      <th>time</th>\n",
       "      <th>status</th>\n",
       "      <th>age</th>\n",
       "      <th>sex</th>\n",
       "      <th>bun</th>\n",
       "      <th>ca</th>\n",
       "      <th>hb</th>\n",
       "      <th>pcells</th>\n",
       "      <th>protein</th>\n",
       "    </tr>\n",
       "  </thead>\n",
       "  <tbody>\n",
       "    <tr>\n",
       "      <th>0</th>\n",
       "      <td>1</td>\n",
       "      <td>13</td>\n",
       "      <td>1</td>\n",
       "      <td>66</td>\n",
       "      <td>1</td>\n",
       "      <td>25</td>\n",
       "      <td>10</td>\n",
       "      <td>14.6</td>\n",
       "      <td>18</td>\n",
       "      <td>1</td>\n",
       "    </tr>\n",
       "    <tr>\n",
       "      <th>1</th>\n",
       "      <td>2</td>\n",
       "      <td>52</td>\n",
       "      <td>0</td>\n",
       "      <td>66</td>\n",
       "      <td>1</td>\n",
       "      <td>13</td>\n",
       "      <td>11</td>\n",
       "      <td>12.0</td>\n",
       "      <td>100</td>\n",
       "      <td>0</td>\n",
       "    </tr>\n",
       "    <tr>\n",
       "      <th>2</th>\n",
       "      <td>3</td>\n",
       "      <td>6</td>\n",
       "      <td>1</td>\n",
       "      <td>53</td>\n",
       "      <td>2</td>\n",
       "      <td>15</td>\n",
       "      <td>13</td>\n",
       "      <td>11.4</td>\n",
       "      <td>33</td>\n",
       "      <td>1</td>\n",
       "    </tr>\n",
       "    <tr>\n",
       "      <th>3</th>\n",
       "      <td>4</td>\n",
       "      <td>40</td>\n",
       "      <td>1</td>\n",
       "      <td>69</td>\n",
       "      <td>1</td>\n",
       "      <td>10</td>\n",
       "      <td>10</td>\n",
       "      <td>10.2</td>\n",
       "      <td>30</td>\n",
       "      <td>1</td>\n",
       "    </tr>\n",
       "    <tr>\n",
       "      <th>4</th>\n",
       "      <td>5</td>\n",
       "      <td>10</td>\n",
       "      <td>1</td>\n",
       "      <td>65</td>\n",
       "      <td>1</td>\n",
       "      <td>20</td>\n",
       "      <td>10</td>\n",
       "      <td>13.2</td>\n",
       "      <td>66</td>\n",
       "      <td>0</td>\n",
       "    </tr>\n",
       "  </tbody>\n",
       "</table>\n",
       "</div>"
      ],
      "text/plain": [
       "   patient  time  status  age  sex  bun  ca    hb  pcells  protein\n",
       "0        1    13       1   66    1   25  10  14.6      18        1\n",
       "1        2    52       0   66    1   13  11  12.0     100        0\n",
       "2        3     6       1   53    2   15  13  11.4      33        1\n",
       "3        4    40       1   69    1   10  10  10.2      30        1\n",
       "4        5    10       1   65    1   20  10  13.2      66        0"
      ]
     },
     "execution_count": 3,
     "metadata": {},
     "output_type": "execute_result"
    }
   ],
   "source": [
    "DatOriginal.head()"
   ]
  },
  {
   "cell_type": "markdown",
   "metadata": {},
   "source": [
    "---"
   ]
  },
  {
   "cell_type": "markdown",
   "metadata": {},
   "source": [
    "Function that calculates the test stadistic and $P$-value to compare two nested models based on the log-likelihood ratio test."
   ]
  },
  {
   "cell_type": "code",
   "execution_count": 4,
   "metadata": {},
   "outputs": [],
   "source": [
    "def LoglikeRatioTest(minus2loglike_model1, minus2loglike_model2, df_model1, df_model2):\n",
    "    # model1 must be nested in model2, i.e. model2 has more variables than model1\n",
    "    test_statistic = minus2loglike_model1 - minus2loglike_model2\n",
    "    p_value = chi2.sf(test_statistic, df_model2-df_model1)\n",
    "    return test_statistic, p_value"
   ]
  },
  {
   "cell_type": "markdown",
   "metadata": {},
   "source": [
    "---"
   ]
  },
  {
   "cell_type": "markdown",
   "metadata": {},
   "source": [
    "In this case, we have seven explanatory variables, so it becomes intractable to implement models for all the combinations. Thus, we will follow the next strategy.\n",
    "\n",
    "1. First we fit models that contain each of the variables at a time. The variables that appear important, compared to the Null model are then consider in the subsequent step."
   ]
  },
  {
   "cell_type": "code",
   "execution_count": 5,
   "metadata": {},
   "outputs": [],
   "source": [
    "formulas = ['age', 'sex', 'bun', 'ca', 'hb', 'pcells', 'protein']\n",
    "\n",
    "MinusTwoLogLike = []\n",
    "Aic = []\n",
    "DegreesFreedom = []\n",
    "\n",
    "for i,f in enumerate(formulas):\n",
    "\n",
    "    cph = CoxPHFitter()\n",
    "    Model = cph.fit(DatOriginal, 'time', 'status', formula=f)\n",
    "\n",
    "    if i==0:\n",
    "        _ = -2*Model.log_likelihood_ + Model.log_likelihood_ratio_test().test_statistic\n",
    "        MinusTwoLogLike.append(_)\n",
    "        DegreesFreedom.append(0)\n",
    "        Aic.append(_)\n",
    "\n",
    "    MinusTwoLogLike.append(-2*Model.log_likelihood_)\n",
    "    DegreesFreedom.append(len(Model.summary))\n",
    "    Aic.append(Model.AIC_partial_)\n",
    "\n",
    "formulas.insert(0, 'None')\n",
    "\n",
    "ModelSummary = pd.DataFrame({'formula': formulas, '-2log-L': MinusTwoLogLike, 'AIC': Aic, 'df': DegreesFreedom})"
   ]
  },
  {
   "cell_type": "code",
   "execution_count": 6,
   "metadata": {},
   "outputs": [],
   "source": [
    "PValues = []\n",
    "\n",
    "for i in range(len(formulas)):\n",
    "    _, Pvalue = LoglikeRatioTest(ModelSummary.loc[0]['-2log-L'], ModelSummary.loc[i]['-2log-L'], 0, ModelSummary.loc[i]['df'])\n",
    "    PValues.append(Pvalue)\n",
    "\n",
    "ModelSummary['Pvalue'] = PValues"
   ]
  },
  {
   "cell_type": "code",
   "execution_count": 7,
   "metadata": {},
   "outputs": [
    {
     "data": {
      "text/html": [
       "<div>\n",
       "<style scoped>\n",
       "    .dataframe tbody tr th:only-of-type {\n",
       "        vertical-align: middle;\n",
       "    }\n",
       "\n",
       "    .dataframe tbody tr th {\n",
       "        vertical-align: top;\n",
       "    }\n",
       "\n",
       "    .dataframe thead th {\n",
       "        text-align: right;\n",
       "    }\n",
       "</style>\n",
       "<table border=\"1\" class=\"dataframe\">\n",
       "  <thead>\n",
       "    <tr style=\"text-align: right;\">\n",
       "      <th></th>\n",
       "      <th>formula</th>\n",
       "      <th>-2log-L</th>\n",
       "      <th>AIC</th>\n",
       "      <th>df</th>\n",
       "      <th>Pvalue</th>\n",
       "    </tr>\n",
       "  </thead>\n",
       "  <tbody>\n",
       "    <tr>\n",
       "      <th>0</th>\n",
       "      <td>None</td>\n",
       "      <td>214.678498</td>\n",
       "      <td>214.678498</td>\n",
       "      <td>0</td>\n",
       "      <td>NaN</td>\n",
       "    </tr>\n",
       "    <tr>\n",
       "      <th>1</th>\n",
       "      <td>age</td>\n",
       "      <td>214.540650</td>\n",
       "      <td>216.540650</td>\n",
       "      <td>1</td>\n",
       "      <td>0.710431</td>\n",
       "    </tr>\n",
       "    <tr>\n",
       "      <th>2</th>\n",
       "      <td>sex</td>\n",
       "      <td>214.645484</td>\n",
       "      <td>216.645484</td>\n",
       "      <td>1</td>\n",
       "      <td>0.855822</td>\n",
       "    </tr>\n",
       "    <tr>\n",
       "      <th>3</th>\n",
       "      <td>bun</td>\n",
       "      <td>205.316102</td>\n",
       "      <td>207.316102</td>\n",
       "      <td>1</td>\n",
       "      <td>0.002215</td>\n",
       "    </tr>\n",
       "    <tr>\n",
       "      <th>4</th>\n",
       "      <td>ca</td>\n",
       "      <td>214.203910</td>\n",
       "      <td>216.203910</td>\n",
       "      <td>1</td>\n",
       "      <td>0.490884</td>\n",
       "    </tr>\n",
       "    <tr>\n",
       "      <th>5</th>\n",
       "      <td>hb</td>\n",
       "      <td>209.661617</td>\n",
       "      <td>211.661617</td>\n",
       "      <td>1</td>\n",
       "      <td>0.025101</td>\n",
       "    </tr>\n",
       "    <tr>\n",
       "      <th>6</th>\n",
       "      <td>pcells</td>\n",
       "      <td>214.601188</td>\n",
       "      <td>216.601188</td>\n",
       "      <td>1</td>\n",
       "      <td>0.780977</td>\n",
       "    </tr>\n",
       "    <tr>\n",
       "      <th>7</th>\n",
       "      <td>protein</td>\n",
       "      <td>212.510535</td>\n",
       "      <td>214.510535</td>\n",
       "      <td>1</td>\n",
       "      <td>0.140913</td>\n",
       "    </tr>\n",
       "  </tbody>\n",
       "</table>\n",
       "</div>"
      ],
      "text/plain": [
       "   formula     -2log-L         AIC  df    Pvalue\n",
       "0     None  214.678498  214.678498   0       NaN\n",
       "1      age  214.540650  216.540650   1  0.710431\n",
       "2      sex  214.645484  216.645484   1  0.855822\n",
       "3      bun  205.316102  207.316102   1  0.002215\n",
       "4       ca  214.203910  216.203910   1  0.490884\n",
       "5       hb  209.661617  211.661617   1  0.025101\n",
       "6   pcells  214.601188  216.601188   1  0.780977\n",
       "7  protein  212.510535  214.510535   1  0.140913"
      ]
     },
     "execution_count": 7,
     "metadata": {},
     "output_type": "execute_result"
    }
   ],
   "source": [
    "ModelSummary.round(3)"
   ]
  },
  {
   "cell_type": "markdown",
   "metadata": {},
   "source": [
    "From the previous $P$-values, considering a threshold of 0.15, we deduce that bun, hb and possible protein appear to be important."
   ]
  },
  {
   "cell_type": "markdown",
   "metadata": {},
   "source": [
    "2. The variables that appear to be important from step 1 are then fitted together. In the presence of certain variables, others may cease to be important. Those that do not lead to a significant increase in the value of $-2\\log \\hat{L}$ when omittted can be discarded."
   ]
  },
  {
   "cell_type": "code",
   "execution_count": 8,
   "metadata": {},
   "outputs": [],
   "source": [
    "formulas = [\n",
    "    'bun+hb', 'bun+protein', 'hb+protein',\n",
    "    'bun+hb+protein'\n",
    "]\n",
    "\n",
    "MinusTwoLogLike = []\n",
    "Aic = []\n",
    "DegreesFreedom = []\n",
    "\n",
    "for i,f in enumerate(formulas):\n",
    "\n",
    "    cph = CoxPHFitter()\n",
    "    Model = cph.fit(DatOriginal, 'time', 'status', formula=f)\n",
    "\n",
    "    MinusTwoLogLike.append(-2*Model.log_likelihood_)\n",
    "    DegreesFreedom.append(len(Model.summary))\n",
    "    Aic.append(Model.AIC_partial_)\n",
    "\n",
    "_ = pd.DataFrame(\n",
    "    {\n",
    "        'formula': formulas,\n",
    "        '-2log-L': MinusTwoLogLike,\n",
    "        'AIC':Aic,\n",
    "        'df':DegreesFreedom\n",
    "    }\n",
    ")\n",
    "\n",
    "ModelSummary = pd.concat([ModelSummary, _], ignore_index=True)"
   ]
  },
  {
   "cell_type": "code",
   "execution_count": 9,
   "metadata": {},
   "outputs": [
    {
     "data": {
      "text/html": [
       "<div>\n",
       "<style scoped>\n",
       "    .dataframe tbody tr th:only-of-type {\n",
       "        vertical-align: middle;\n",
       "    }\n",
       "\n",
       "    .dataframe tbody tr th {\n",
       "        vertical-align: top;\n",
       "    }\n",
       "\n",
       "    .dataframe thead th {\n",
       "        text-align: right;\n",
       "    }\n",
       "</style>\n",
       "<table border=\"1\" class=\"dataframe\">\n",
       "  <thead>\n",
       "    <tr style=\"text-align: right;\">\n",
       "      <th></th>\n",
       "      <th>formula</th>\n",
       "      <th>-2log-L</th>\n",
       "      <th>AIC</th>\n",
       "      <th>df</th>\n",
       "      <th>Pvalue</th>\n",
       "    </tr>\n",
       "  </thead>\n",
       "  <tbody>\n",
       "    <tr>\n",
       "      <th>0</th>\n",
       "      <td>None</td>\n",
       "      <td>214.678498</td>\n",
       "      <td>214.678498</td>\n",
       "      <td>0</td>\n",
       "      <td>NaN</td>\n",
       "    </tr>\n",
       "    <tr>\n",
       "      <th>1</th>\n",
       "      <td>age</td>\n",
       "      <td>214.540650</td>\n",
       "      <td>216.540650</td>\n",
       "      <td>1</td>\n",
       "      <td>0.710431</td>\n",
       "    </tr>\n",
       "    <tr>\n",
       "      <th>2</th>\n",
       "      <td>sex</td>\n",
       "      <td>214.645484</td>\n",
       "      <td>216.645484</td>\n",
       "      <td>1</td>\n",
       "      <td>0.855822</td>\n",
       "    </tr>\n",
       "    <tr>\n",
       "      <th>3</th>\n",
       "      <td>bun</td>\n",
       "      <td>205.316102</td>\n",
       "      <td>207.316102</td>\n",
       "      <td>1</td>\n",
       "      <td>0.002215</td>\n",
       "    </tr>\n",
       "    <tr>\n",
       "      <th>4</th>\n",
       "      <td>ca</td>\n",
       "      <td>214.203910</td>\n",
       "      <td>216.203910</td>\n",
       "      <td>1</td>\n",
       "      <td>0.490884</td>\n",
       "    </tr>\n",
       "    <tr>\n",
       "      <th>5</th>\n",
       "      <td>hb</td>\n",
       "      <td>209.661617</td>\n",
       "      <td>211.661617</td>\n",
       "      <td>1</td>\n",
       "      <td>0.025101</td>\n",
       "    </tr>\n",
       "    <tr>\n",
       "      <th>6</th>\n",
       "      <td>pcells</td>\n",
       "      <td>214.601188</td>\n",
       "      <td>216.601188</td>\n",
       "      <td>1</td>\n",
       "      <td>0.780977</td>\n",
       "    </tr>\n",
       "    <tr>\n",
       "      <th>7</th>\n",
       "      <td>protein</td>\n",
       "      <td>212.510535</td>\n",
       "      <td>214.510535</td>\n",
       "      <td>1</td>\n",
       "      <td>0.140913</td>\n",
       "    </tr>\n",
       "    <tr>\n",
       "      <th>8</th>\n",
       "      <td>bun+hb</td>\n",
       "      <td>200.698995</td>\n",
       "      <td>204.698995</td>\n",
       "      <td>2</td>\n",
       "      <td>NaN</td>\n",
       "    </tr>\n",
       "    <tr>\n",
       "      <th>9</th>\n",
       "      <td>bun+protein</td>\n",
       "      <td>200.988705</td>\n",
       "      <td>204.988705</td>\n",
       "      <td>2</td>\n",
       "      <td>NaN</td>\n",
       "    </tr>\n",
       "    <tr>\n",
       "      <th>10</th>\n",
       "      <td>hb+protein</td>\n",
       "      <td>208.353631</td>\n",
       "      <td>212.353631</td>\n",
       "      <td>2</td>\n",
       "      <td>NaN</td>\n",
       "    </tr>\n",
       "    <tr>\n",
       "      <th>11</th>\n",
       "      <td>bun+hb+protein</td>\n",
       "      <td>197.901273</td>\n",
       "      <td>203.901273</td>\n",
       "      <td>3</td>\n",
       "      <td>NaN</td>\n",
       "    </tr>\n",
       "  </tbody>\n",
       "</table>\n",
       "</div>"
      ],
      "text/plain": [
       "           formula     -2log-L         AIC  df    Pvalue\n",
       "0             None  214.678498  214.678498   0       NaN\n",
       "1              age  214.540650  216.540650   1  0.710431\n",
       "2              sex  214.645484  216.645484   1  0.855822\n",
       "3              bun  205.316102  207.316102   1  0.002215\n",
       "4               ca  214.203910  216.203910   1  0.490884\n",
       "5               hb  209.661617  211.661617   1  0.025101\n",
       "6           pcells  214.601188  216.601188   1  0.780977\n",
       "7          protein  212.510535  214.510535   1  0.140913\n",
       "8           bun+hb  200.698995  204.698995   2       NaN\n",
       "9      bun+protein  200.988705  204.988705   2       NaN\n",
       "10      hb+protein  208.353631  212.353631   2       NaN\n",
       "11  bun+hb+protein  197.901273  203.901273   3       NaN"
      ]
     },
     "execution_count": 9,
     "metadata": {},
     "output_type": "execute_result"
    }
   ],
   "source": [
    "ModelSummary.round(3)"
   ]
  },
  {
   "cell_type": "code",
   "execution_count": 10,
   "metadata": {},
   "outputs": [
    {
     "data": {
      "text/plain": [
       "array([2.798, 0.094])"
      ]
     },
     "execution_count": 10,
     "metadata": {},
     "output_type": "execute_result"
    }
   ],
   "source": [
    "# Comparing model bun+hb+protein against model bun+hb, i.e. omitting protein\n",
    "np.round(LoglikeRatioTest(\n",
    "    ModelSummary.loc[8]['-2log-L'],\n",
    "    ModelSummary.loc[11]['-2log-L'],\n",
    "    ModelSummary.loc[8]['df'],\n",
    "    ModelSummary.loc[11]['df']\n",
    "),3)\n",
    "# protein might not be omitted, but let's ommit it for now"
   ]
  },
  {
   "cell_type": "code",
   "execution_count": 11,
   "metadata": {},
   "outputs": [
    {
     "data": {
      "text/plain": [
       "array([3.087, 0.079])"
      ]
     },
     "execution_count": 11,
     "metadata": {},
     "output_type": "execute_result"
    }
   ],
   "source": [
    "# Comparing model bun+hb+protein against model bun+protein, i.e. omitting hb\n",
    "np.round(LoglikeRatioTest(\n",
    "    ModelSummary.loc[9]['-2log-L'],\n",
    "    ModelSummary.loc[11]['-2log-L'],\n",
    "    ModelSummary.loc[9]['df'],\n",
    "    ModelSummary.loc[11]['df']\n",
    "),3)\n",
    "# hb should not be omitted"
   ]
  },
  {
   "cell_type": "code",
   "execution_count": 12,
   "metadata": {},
   "outputs": [
    {
     "data": {
      "text/plain": [
       "array([1.0452e+01, 1.0000e-03])"
      ]
     },
     "execution_count": 12,
     "metadata": {},
     "output_type": "execute_result"
    }
   ],
   "source": [
    "# Comparing model bun+hb+protein against model hb+protein, i.e. omitting bun\n",
    "np.round(LoglikeRatioTest(\n",
    "    ModelSummary.loc[10]['-2log-L'],\n",
    "    ModelSummary.loc[11]['-2log-L'],\n",
    "    ModelSummary.loc[10]['df'],\n",
    "    ModelSummary.loc[11]['df']\n",
    "),3)\n",
    "# bun should not be omitted"
   ]
  },
  {
   "cell_type": "markdown",
   "metadata": {},
   "source": [
    "For now, let us ommit the variable protein, so we consider just bun and hb.\n",
    "\n",
    "We now compare the model that has bun and hb with the models that ommit any of them."
   ]
  },
  {
   "cell_type": "code",
   "execution_count": 13,
   "metadata": {},
   "outputs": [
    {
     "data": {
      "text/plain": [
       "array([4.617, 0.032])"
      ]
     },
     "execution_count": 13,
     "metadata": {},
     "output_type": "execute_result"
    }
   ],
   "source": [
    "# Comparing model bun+hb against model bun, i.e. omitting hb\n",
    "np.round(LoglikeRatioTest(\n",
    "    ModelSummary.loc[3]['-2log-L'],\n",
    "    ModelSummary.loc[8]['-2log-L'],\n",
    "    ModelSummary.loc[3]['df'],\n",
    "    ModelSummary.loc[8]['df']\n",
    "),3)\n",
    "# hb should not be omitted"
   ]
  },
  {
   "cell_type": "code",
   "execution_count": 23,
   "metadata": {},
   "outputs": [
    {
     "data": {
      "text/plain": [
       "array([8.963e+00, 3.000e-03])"
      ]
     },
     "execution_count": 23,
     "metadata": {},
     "output_type": "execute_result"
    }
   ],
   "source": [
    "# Comparing model bun+hb against model hb, i.e. omitting bun\n",
    "np.round(LoglikeRatioTest(\n",
    "    ModelSummary.loc[5]['-2log-L'],\n",
    "    ModelSummary.loc[8]['-2log-L'],\n",
    "    ModelSummary.loc[5]['df'],\n",
    "    ModelSummary.loc[8]['df']\n",
    "),3)\n",
    "# bun should not be omitted"
   ]
  },
  {
   "cell_type": "markdown",
   "metadata": {},
   "source": [
    "Neither bun nor hb can be excluded from the model."
   ]
  },
  {
   "cell_type": "markdown",
   "metadata": {},
   "source": [
    "3. Variables that were not important on their own may become important in the presence of others. We add such variables one at a time to the model. Those that reduce $-2\\log\\hat{L}$ significantly are retained."
   ]
  },
  {
   "cell_type": "code",
   "execution_count": 15,
   "metadata": {},
   "outputs": [],
   "source": [
    "formulas = [\n",
    "    'bun+hb+age', 'bun+hb+sex', 'bun+hb+ca', 'bun+hb+pcells'\n",
    "]\n",
    "\n",
    "MinusTwoLogLike = []\n",
    "Aic = []\n",
    "DegreesFreedom = []\n",
    "\n",
    "for i,f in enumerate(formulas):\n",
    "\n",
    "    cph = CoxPHFitter()\n",
    "    Model = cph.fit(DatOriginal, 'time', 'status', formula=f)\n",
    "\n",
    "    MinusTwoLogLike.append(-2*Model.log_likelihood_)\n",
    "    DegreesFreedom.append(len(Model.summary))\n",
    "    Aic.append(Model.AIC_partial_)\n",
    "\n",
    "_ = pd.DataFrame(\n",
    "    {\n",
    "        'formula': formulas,\n",
    "        '-2log-L': MinusTwoLogLike,\n",
    "        'AIC':Aic,\n",
    "        'df':DegreesFreedom\n",
    "    }\n",
    ")\n",
    "\n",
    "ModelSummary = pd.concat([ModelSummary, _], ignore_index=True)"
   ]
  },
  {
   "cell_type": "code",
   "execution_count": 16,
   "metadata": {},
   "outputs": [
    {
     "data": {
      "text/html": [
       "<div>\n",
       "<style scoped>\n",
       "    .dataframe tbody tr th:only-of-type {\n",
       "        vertical-align: middle;\n",
       "    }\n",
       "\n",
       "    .dataframe tbody tr th {\n",
       "        vertical-align: top;\n",
       "    }\n",
       "\n",
       "    .dataframe thead th {\n",
       "        text-align: right;\n",
       "    }\n",
       "</style>\n",
       "<table border=\"1\" class=\"dataframe\">\n",
       "  <thead>\n",
       "    <tr style=\"text-align: right;\">\n",
       "      <th></th>\n",
       "      <th>formula</th>\n",
       "      <th>-2log-L</th>\n",
       "      <th>AIC</th>\n",
       "      <th>df</th>\n",
       "      <th>Pvalue</th>\n",
       "    </tr>\n",
       "  </thead>\n",
       "  <tbody>\n",
       "    <tr>\n",
       "      <th>0</th>\n",
       "      <td>None</td>\n",
       "      <td>214.678498</td>\n",
       "      <td>214.678498</td>\n",
       "      <td>0</td>\n",
       "      <td>NaN</td>\n",
       "    </tr>\n",
       "    <tr>\n",
       "      <th>1</th>\n",
       "      <td>age</td>\n",
       "      <td>214.540650</td>\n",
       "      <td>216.540650</td>\n",
       "      <td>1</td>\n",
       "      <td>0.710431</td>\n",
       "    </tr>\n",
       "    <tr>\n",
       "      <th>2</th>\n",
       "      <td>sex</td>\n",
       "      <td>214.645484</td>\n",
       "      <td>216.645484</td>\n",
       "      <td>1</td>\n",
       "      <td>0.855822</td>\n",
       "    </tr>\n",
       "    <tr>\n",
       "      <th>3</th>\n",
       "      <td>bun</td>\n",
       "      <td>205.316102</td>\n",
       "      <td>207.316102</td>\n",
       "      <td>1</td>\n",
       "      <td>0.002215</td>\n",
       "    </tr>\n",
       "    <tr>\n",
       "      <th>4</th>\n",
       "      <td>ca</td>\n",
       "      <td>214.203910</td>\n",
       "      <td>216.203910</td>\n",
       "      <td>1</td>\n",
       "      <td>0.490884</td>\n",
       "    </tr>\n",
       "    <tr>\n",
       "      <th>5</th>\n",
       "      <td>hb</td>\n",
       "      <td>209.661617</td>\n",
       "      <td>211.661617</td>\n",
       "      <td>1</td>\n",
       "      <td>0.025101</td>\n",
       "    </tr>\n",
       "    <tr>\n",
       "      <th>6</th>\n",
       "      <td>pcells</td>\n",
       "      <td>214.601188</td>\n",
       "      <td>216.601188</td>\n",
       "      <td>1</td>\n",
       "      <td>0.780977</td>\n",
       "    </tr>\n",
       "    <tr>\n",
       "      <th>7</th>\n",
       "      <td>protein</td>\n",
       "      <td>212.510535</td>\n",
       "      <td>214.510535</td>\n",
       "      <td>1</td>\n",
       "      <td>0.140913</td>\n",
       "    </tr>\n",
       "    <tr>\n",
       "      <th>8</th>\n",
       "      <td>bun+hb</td>\n",
       "      <td>200.698995</td>\n",
       "      <td>204.698995</td>\n",
       "      <td>2</td>\n",
       "      <td>NaN</td>\n",
       "    </tr>\n",
       "    <tr>\n",
       "      <th>9</th>\n",
       "      <td>bun+protein</td>\n",
       "      <td>200.988705</td>\n",
       "      <td>204.988705</td>\n",
       "      <td>2</td>\n",
       "      <td>NaN</td>\n",
       "    </tr>\n",
       "    <tr>\n",
       "      <th>10</th>\n",
       "      <td>hb+protein</td>\n",
       "      <td>208.353631</td>\n",
       "      <td>212.353631</td>\n",
       "      <td>2</td>\n",
       "      <td>NaN</td>\n",
       "    </tr>\n",
       "    <tr>\n",
       "      <th>11</th>\n",
       "      <td>bun+hb+protein</td>\n",
       "      <td>197.901273</td>\n",
       "      <td>203.901273</td>\n",
       "      <td>3</td>\n",
       "      <td>NaN</td>\n",
       "    </tr>\n",
       "    <tr>\n",
       "      <th>12</th>\n",
       "      <td>bun+hb+age</td>\n",
       "      <td>200.452693</td>\n",
       "      <td>206.452693</td>\n",
       "      <td>3</td>\n",
       "      <td>NaN</td>\n",
       "    </tr>\n",
       "    <tr>\n",
       "      <th>13</th>\n",
       "      <td>bun+hb+sex</td>\n",
       "      <td>200.306493</td>\n",
       "      <td>206.306493</td>\n",
       "      <td>3</td>\n",
       "      <td>NaN</td>\n",
       "    </tr>\n",
       "    <tr>\n",
       "      <th>14</th>\n",
       "      <td>bun+hb+ca</td>\n",
       "      <td>200.698329</td>\n",
       "      <td>206.698329</td>\n",
       "      <td>3</td>\n",
       "      <td>NaN</td>\n",
       "    </tr>\n",
       "    <tr>\n",
       "      <th>15</th>\n",
       "      <td>bun+hb+pcells</td>\n",
       "      <td>200.473832</td>\n",
       "      <td>206.473832</td>\n",
       "      <td>3</td>\n",
       "      <td>NaN</td>\n",
       "    </tr>\n",
       "  </tbody>\n",
       "</table>\n",
       "</div>"
      ],
      "text/plain": [
       "           formula     -2log-L         AIC  df    Pvalue\n",
       "0             None  214.678498  214.678498   0       NaN\n",
       "1              age  214.540650  216.540650   1  0.710431\n",
       "2              sex  214.645484  216.645484   1  0.855822\n",
       "3              bun  205.316102  207.316102   1  0.002215\n",
       "4               ca  214.203910  216.203910   1  0.490884\n",
       "5               hb  209.661617  211.661617   1  0.025101\n",
       "6           pcells  214.601188  216.601188   1  0.780977\n",
       "7          protein  212.510535  214.510535   1  0.140913\n",
       "8           bun+hb  200.698995  204.698995   2       NaN\n",
       "9      bun+protein  200.988705  204.988705   2       NaN\n",
       "10      hb+protein  208.353631  212.353631   2       NaN\n",
       "11  bun+hb+protein  197.901273  203.901273   3       NaN\n",
       "12      bun+hb+age  200.452693  206.452693   3       NaN\n",
       "13      bun+hb+sex  200.306493  206.306493   3       NaN\n",
       "14       bun+hb+ca  200.698329  206.698329   3       NaN\n",
       "15   bun+hb+pcells  200.473832  206.473832   3       NaN"
      ]
     },
     "execution_count": 16,
     "metadata": {},
     "output_type": "execute_result"
    }
   ],
   "source": [
    "ModelSummary.round(3)"
   ]
  },
  {
   "cell_type": "code",
   "execution_count": 17,
   "metadata": {},
   "outputs": [
    {
     "data": {
      "text/plain": [
       "array([0.246, 0.62 ])"
      ]
     },
     "execution_count": 17,
     "metadata": {},
     "output_type": "execute_result"
    }
   ],
   "source": [
    "# Comparing model bun+hb against model bun+hb+age, i.e. adding age\n",
    "np.round(LoglikeRatioTest(\n",
    "    ModelSummary.loc[8]['-2log-L'],\n",
    "    ModelSummary.loc[12]['-2log-L'],\n",
    "    ModelSummary.loc[8]['df'],\n",
    "    ModelSummary.loc[12]['df']\n",
    "),3)\n",
    "# age should not be added"
   ]
  },
  {
   "cell_type": "code",
   "execution_count": 18,
   "metadata": {},
   "outputs": [
    {
     "data": {
      "text/plain": [
       "array([0.393, 0.531])"
      ]
     },
     "execution_count": 18,
     "metadata": {},
     "output_type": "execute_result"
    }
   ],
   "source": [
    "# Comparing model bun+hb against model bun+hb+sex, i.e. adding sex\n",
    "np.round(LoglikeRatioTest(\n",
    "    ModelSummary.loc[8]['-2log-L'],\n",
    "    ModelSummary.loc[13]['-2log-L'],\n",
    "    ModelSummary.loc[8]['df'],\n",
    "    ModelSummary.loc[13]['df']\n",
    "),3)\n",
    "# sex should not be added"
   ]
  },
  {
   "cell_type": "code",
   "execution_count": 19,
   "metadata": {},
   "outputs": [
    {
     "data": {
      "text/plain": [
       "array([0.001, 0.979])"
      ]
     },
     "execution_count": 19,
     "metadata": {},
     "output_type": "execute_result"
    }
   ],
   "source": [
    "# Comparing model bun+hb against model bun+hb+ca, i.e. adding ca\n",
    "np.round(LoglikeRatioTest(\n",
    "    ModelSummary.loc[8]['-2log-L'],\n",
    "    ModelSummary.loc[14]['-2log-L'],\n",
    "    ModelSummary.loc[8]['df'],\n",
    "    ModelSummary.loc[14]['df']\n",
    "),3)\n",
    "# ca should not be added"
   ]
  },
  {
   "cell_type": "code",
   "execution_count": 20,
   "metadata": {},
   "outputs": [
    {
     "data": {
      "text/plain": [
       "array([0.225, 0.635])"
      ]
     },
     "execution_count": 20,
     "metadata": {},
     "output_type": "execute_result"
    }
   ],
   "source": [
    "# Comparing model bun+hb against model bun+hb+pcell, i.e. adding pcells\n",
    "np.round(LoglikeRatioTest(\n",
    "    ModelSummary.loc[8]['-2log-L'],\n",
    "    ModelSummary.loc[15]['-2log-L'],\n",
    "    ModelSummary.loc[8]['df'],\n",
    "    ModelSummary.loc[15]['df']\n",
    "),3)\n",
    "# pcells should not be added"
   ]
  },
  {
   "cell_type": "markdown",
   "metadata": {},
   "source": [
    "---"
   ]
  },
  {
   "cell_type": "markdown",
   "metadata": {},
   "source": [
    "When we compare the models bun+hb+protein and bun+hb, we got a $P$-value of 0.094. So, there is a slight evidence that the models are different, and we can decide to keep protein instead of omitting it.\n",
    "\n",
    "Let's keep it now, and add each of the variables that where considered as unimportant."
   ]
  },
  {
   "cell_type": "code",
   "execution_count": 25,
   "metadata": {},
   "outputs": [],
   "source": [
    "formulas = [\n",
    "    'bun+hb+protein+age', 'bun+hb+protein+sex', 'bun+hb+protein+ca', 'bun+hb+protein+pcells'\n",
    "]\n",
    "\n",
    "MinusTwoLogLike = []\n",
    "Aic = []\n",
    "DegreesFreedom = []\n",
    "\n",
    "for i,f in enumerate(formulas):\n",
    "\n",
    "    cph = CoxPHFitter()\n",
    "    Model = cph.fit(DatOriginal, 'time', 'status', formula=f)\n",
    "\n",
    "    MinusTwoLogLike.append(-2*Model.log_likelihood_)\n",
    "    DegreesFreedom.append(len(Model.summary))\n",
    "    Aic.append(Model.AIC_partial_)\n",
    "\n",
    "_ = pd.DataFrame(\n",
    "    {\n",
    "        'formula': formulas,\n",
    "        '-2log-L': MinusTwoLogLike,\n",
    "        'AIC':Aic,\n",
    "        'df':DegreesFreedom\n",
    "    }\n",
    ")\n",
    "\n",
    "ModelSummary = pd.concat([ModelSummary, _], ignore_index=True)"
   ]
  },
  {
   "cell_type": "code",
   "execution_count": 26,
   "metadata": {},
   "outputs": [
    {
     "data": {
      "text/html": [
       "<div>\n",
       "<style scoped>\n",
       "    .dataframe tbody tr th:only-of-type {\n",
       "        vertical-align: middle;\n",
       "    }\n",
       "\n",
       "    .dataframe tbody tr th {\n",
       "        vertical-align: top;\n",
       "    }\n",
       "\n",
       "    .dataframe thead th {\n",
       "        text-align: right;\n",
       "    }\n",
       "</style>\n",
       "<table border=\"1\" class=\"dataframe\">\n",
       "  <thead>\n",
       "    <tr style=\"text-align: right;\">\n",
       "      <th></th>\n",
       "      <th>formula</th>\n",
       "      <th>-2log-L</th>\n",
       "      <th>AIC</th>\n",
       "      <th>df</th>\n",
       "      <th>Pvalue</th>\n",
       "    </tr>\n",
       "  </thead>\n",
       "  <tbody>\n",
       "    <tr>\n",
       "      <th>0</th>\n",
       "      <td>None</td>\n",
       "      <td>214.678498</td>\n",
       "      <td>214.678498</td>\n",
       "      <td>0</td>\n",
       "      <td>NaN</td>\n",
       "    </tr>\n",
       "    <tr>\n",
       "      <th>1</th>\n",
       "      <td>age</td>\n",
       "      <td>214.540650</td>\n",
       "      <td>216.540650</td>\n",
       "      <td>1</td>\n",
       "      <td>0.710431</td>\n",
       "    </tr>\n",
       "    <tr>\n",
       "      <th>2</th>\n",
       "      <td>sex</td>\n",
       "      <td>214.645484</td>\n",
       "      <td>216.645484</td>\n",
       "      <td>1</td>\n",
       "      <td>0.855822</td>\n",
       "    </tr>\n",
       "    <tr>\n",
       "      <th>3</th>\n",
       "      <td>bun</td>\n",
       "      <td>205.316102</td>\n",
       "      <td>207.316102</td>\n",
       "      <td>1</td>\n",
       "      <td>0.002215</td>\n",
       "    </tr>\n",
       "    <tr>\n",
       "      <th>4</th>\n",
       "      <td>ca</td>\n",
       "      <td>214.203910</td>\n",
       "      <td>216.203910</td>\n",
       "      <td>1</td>\n",
       "      <td>0.490884</td>\n",
       "    </tr>\n",
       "    <tr>\n",
       "      <th>5</th>\n",
       "      <td>hb</td>\n",
       "      <td>209.661617</td>\n",
       "      <td>211.661617</td>\n",
       "      <td>1</td>\n",
       "      <td>0.025101</td>\n",
       "    </tr>\n",
       "    <tr>\n",
       "      <th>6</th>\n",
       "      <td>pcells</td>\n",
       "      <td>214.601188</td>\n",
       "      <td>216.601188</td>\n",
       "      <td>1</td>\n",
       "      <td>0.780977</td>\n",
       "    </tr>\n",
       "    <tr>\n",
       "      <th>7</th>\n",
       "      <td>protein</td>\n",
       "      <td>212.510535</td>\n",
       "      <td>214.510535</td>\n",
       "      <td>1</td>\n",
       "      <td>0.140913</td>\n",
       "    </tr>\n",
       "    <tr>\n",
       "      <th>8</th>\n",
       "      <td>bun+hb</td>\n",
       "      <td>200.698995</td>\n",
       "      <td>204.698995</td>\n",
       "      <td>2</td>\n",
       "      <td>NaN</td>\n",
       "    </tr>\n",
       "    <tr>\n",
       "      <th>9</th>\n",
       "      <td>bun+protein</td>\n",
       "      <td>200.988705</td>\n",
       "      <td>204.988705</td>\n",
       "      <td>2</td>\n",
       "      <td>NaN</td>\n",
       "    </tr>\n",
       "    <tr>\n",
       "      <th>10</th>\n",
       "      <td>hb+protein</td>\n",
       "      <td>208.353631</td>\n",
       "      <td>212.353631</td>\n",
       "      <td>2</td>\n",
       "      <td>NaN</td>\n",
       "    </tr>\n",
       "    <tr>\n",
       "      <th>11</th>\n",
       "      <td>bun+hb+protein</td>\n",
       "      <td>197.901273</td>\n",
       "      <td>203.901273</td>\n",
       "      <td>3</td>\n",
       "      <td>NaN</td>\n",
       "    </tr>\n",
       "    <tr>\n",
       "      <th>12</th>\n",
       "      <td>bun+hb+age</td>\n",
       "      <td>200.452693</td>\n",
       "      <td>206.452693</td>\n",
       "      <td>3</td>\n",
       "      <td>NaN</td>\n",
       "    </tr>\n",
       "    <tr>\n",
       "      <th>13</th>\n",
       "      <td>bun+hb+sex</td>\n",
       "      <td>200.306493</td>\n",
       "      <td>206.306493</td>\n",
       "      <td>3</td>\n",
       "      <td>NaN</td>\n",
       "    </tr>\n",
       "    <tr>\n",
       "      <th>14</th>\n",
       "      <td>bun+hb+ca</td>\n",
       "      <td>200.698329</td>\n",
       "      <td>206.698329</td>\n",
       "      <td>3</td>\n",
       "      <td>NaN</td>\n",
       "    </tr>\n",
       "    <tr>\n",
       "      <th>15</th>\n",
       "      <td>bun+hb+pcells</td>\n",
       "      <td>200.473832</td>\n",
       "      <td>206.473832</td>\n",
       "      <td>3</td>\n",
       "      <td>NaN</td>\n",
       "    </tr>\n",
       "    <tr>\n",
       "      <th>16</th>\n",
       "      <td>bun+hb+protein+age</td>\n",
       "      <td>197.602224</td>\n",
       "      <td>205.602224</td>\n",
       "      <td>4</td>\n",
       "      <td>NaN</td>\n",
       "    </tr>\n",
       "    <tr>\n",
       "      <th>17</th>\n",
       "      <td>bun+hb+protein+sex</td>\n",
       "      <td>197.574572</td>\n",
       "      <td>205.574572</td>\n",
       "      <td>4</td>\n",
       "      <td>NaN</td>\n",
       "    </tr>\n",
       "    <tr>\n",
       "      <th>18</th>\n",
       "      <td>bun+hb+protein+ca</td>\n",
       "      <td>197.861394</td>\n",
       "      <td>205.861394</td>\n",
       "      <td>4</td>\n",
       "      <td>NaN</td>\n",
       "    </tr>\n",
       "    <tr>\n",
       "      <th>19</th>\n",
       "      <td>bun+hb+protein+pcells</td>\n",
       "      <td>197.900898</td>\n",
       "      <td>205.900898</td>\n",
       "      <td>4</td>\n",
       "      <td>NaN</td>\n",
       "    </tr>\n",
       "  </tbody>\n",
       "</table>\n",
       "</div>"
      ],
      "text/plain": [
       "                  formula     -2log-L         AIC  df    Pvalue\n",
       "0                    None  214.678498  214.678498   0       NaN\n",
       "1                     age  214.540650  216.540650   1  0.710431\n",
       "2                     sex  214.645484  216.645484   1  0.855822\n",
       "3                     bun  205.316102  207.316102   1  0.002215\n",
       "4                      ca  214.203910  216.203910   1  0.490884\n",
       "5                      hb  209.661617  211.661617   1  0.025101\n",
       "6                  pcells  214.601188  216.601188   1  0.780977\n",
       "7                 protein  212.510535  214.510535   1  0.140913\n",
       "8                  bun+hb  200.698995  204.698995   2       NaN\n",
       "9             bun+protein  200.988705  204.988705   2       NaN\n",
       "10             hb+protein  208.353631  212.353631   2       NaN\n",
       "11         bun+hb+protein  197.901273  203.901273   3       NaN\n",
       "12             bun+hb+age  200.452693  206.452693   3       NaN\n",
       "13             bun+hb+sex  200.306493  206.306493   3       NaN\n",
       "14              bun+hb+ca  200.698329  206.698329   3       NaN\n",
       "15          bun+hb+pcells  200.473832  206.473832   3       NaN\n",
       "16     bun+hb+protein+age  197.602224  205.602224   4       NaN\n",
       "17     bun+hb+protein+sex  197.574572  205.574572   4       NaN\n",
       "18      bun+hb+protein+ca  197.861394  205.861394   4       NaN\n",
       "19  bun+hb+protein+pcells  197.900898  205.900898   4       NaN"
      ]
     },
     "execution_count": 26,
     "metadata": {},
     "output_type": "execute_result"
    }
   ],
   "source": [
    "ModelSummary.round(3)"
   ]
  },
  {
   "cell_type": "code",
   "execution_count": 27,
   "metadata": {},
   "outputs": [
    {
     "data": {
      "text/plain": [
       "array([0.299, 0.584])"
      ]
     },
     "execution_count": 27,
     "metadata": {},
     "output_type": "execute_result"
    }
   ],
   "source": [
    "# Comparing model bun+hb+protein against model bun+hb+protein+age, i.e. adding age\n",
    "np.round(LoglikeRatioTest(\n",
    "    ModelSummary.loc[11]['-2log-L'],\n",
    "    ModelSummary.loc[16]['-2log-L'],\n",
    "    ModelSummary.loc[11]['df'],\n",
    "    ModelSummary.loc[16]['df']\n",
    "),3)\n",
    "# age should not be added"
   ]
  },
  {
   "cell_type": "code",
   "execution_count": 28,
   "metadata": {},
   "outputs": [
    {
     "data": {
      "text/plain": [
       "array([0.327, 0.568])"
      ]
     },
     "execution_count": 28,
     "metadata": {},
     "output_type": "execute_result"
    }
   ],
   "source": [
    "# Comparing model bun+hb+protein against model bun+hb+protein+age, i.e. adding sex\n",
    "np.round(LoglikeRatioTest(\n",
    "    ModelSummary.loc[11]['-2log-L'],\n",
    "    ModelSummary.loc[17]['-2log-L'],\n",
    "    ModelSummary.loc[11]['df'],\n",
    "    ModelSummary.loc[17]['df']\n",
    "),3)\n",
    "# sex should not be added"
   ]
  },
  {
   "cell_type": "code",
   "execution_count": 29,
   "metadata": {},
   "outputs": [
    {
     "data": {
      "text/plain": [
       "array([0.04 , 0.842])"
      ]
     },
     "execution_count": 29,
     "metadata": {},
     "output_type": "execute_result"
    }
   ],
   "source": [
    "# Comparing model bun+hb+protein against model bun+hb+protein+age, i.e. adding ca\n",
    "np.round(LoglikeRatioTest(\n",
    "    ModelSummary.loc[11]['-2log-L'],\n",
    "    ModelSummary.loc[18]['-2log-L'],\n",
    "    ModelSummary.loc[11]['df'],\n",
    "    ModelSummary.loc[18]['df']\n",
    "),3)\n",
    "# ca should not be added"
   ]
  },
  {
   "cell_type": "code",
   "execution_count": 30,
   "metadata": {},
   "outputs": [
    {
     "data": {
      "text/plain": [
       "array([0.   , 0.985])"
      ]
     },
     "execution_count": 30,
     "metadata": {},
     "output_type": "execute_result"
    }
   ],
   "source": [
    "# Comparing model bun+hb+protein against model bun+hb+protein+age, i.e. adding pcellls\n",
    "np.round(LoglikeRatioTest(\n",
    "    ModelSummary.loc[11]['-2log-L'],\n",
    "    ModelSummary.loc[19]['-2log-L'],\n",
    "    ModelSummary.loc[11]['df'],\n",
    "    ModelSummary.loc[19]['df']\n",
    "),3)\n",
    "# pcells should not be added"
   ]
  },
  {
   "cell_type": "markdown",
   "metadata": {},
   "source": [
    "Thus, we prefer the model that includes the variables bun, hb, and protein.\n",
    "\n",
    "Furthermore, we can also look at the AIC, which give the same suggestion.\n",
    "\n",
    "Ultimately, one might wish to include protein in the model so as not to miss anything."
   ]
  },
  {
   "cell_type": "code",
   "execution_count": 34,
   "metadata": {},
   "outputs": [
    {
     "data": {
      "text/plain": [
       "formula    bun+hb+protein\n",
       "-2log-L        197.901273\n",
       "AIC            203.901273\n",
       "df                      3\n",
       "Pvalue                NaN\n",
       "Name: 11, dtype: object"
      ]
     },
     "execution_count": 34,
     "metadata": {},
     "output_type": "execute_result"
    }
   ],
   "source": [
    "ModelSummary.iloc[ModelSummary['AIC'].argmin()]"
   ]
  }
 ],
 "metadata": {
  "kernelspec": {
   "display_name": "Python 3",
   "language": "python",
   "name": "python3"
  },
  "language_info": {
   "codemirror_mode": {
    "name": "ipython",
    "version": 3
   },
   "file_extension": ".py",
   "mimetype": "text/x-python",
   "name": "python",
   "nbconvert_exporter": "python",
   "pygments_lexer": "ipython3",
   "version": "3.12.4"
  }
 },
 "nbformat": 4,
 "nbformat_minor": 2
}
