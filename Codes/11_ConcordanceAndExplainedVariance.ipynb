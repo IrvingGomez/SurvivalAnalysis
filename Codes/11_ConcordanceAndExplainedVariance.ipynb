{
 "cells": [
  {
   "cell_type": "markdown",
   "metadata": {},
   "source": [
    "# Concordance, predictive ability, and explained variance"
   ]
  },
  {
   "cell_type": "code",
   "execution_count": 1,
   "metadata": {},
   "outputs": [],
   "source": [
    "import numpy as np\n",
    "import pandas as pd\n",
    "\n",
    "from scipy.stats import norm, rankdata\n",
    "from lifelines import CoxPHFitter"
   ]
  },
  {
   "cell_type": "markdown",
   "metadata": {},
   "source": [
    "Read the data"
   ]
  },
  {
   "cell_type": "code",
   "execution_count": 2,
   "metadata": {},
   "outputs": [
    {
     "name": "stderr",
     "output_type": "stream",
     "text": [
      "<>:1: SyntaxWarning: invalid escape sequence '\\s'\n",
      "<>:1: SyntaxWarning: invalid escape sequence '\\s'\n",
      "/tmp/ipykernel_10460/843039072.py:1: SyntaxWarning: invalid escape sequence '\\s'\n",
      "  DatOriginal = pd.read_csv(\"DatasetsMedicalResearch/Survival of multiple myeloma patients.dat\", sep=\"\\s+\")\n"
     ]
    }
   ],
   "source": [
    "DatOriginal = pd.read_csv(\"DatasetsMedicalResearch/Survival of multiple myeloma patients.dat\", sep=\"\\s+\")\n",
    "DatOriginal = DatOriginal.drop('patient', axis=1)"
   ]
  },
  {
   "cell_type": "code",
   "execution_count": 3,
   "metadata": {},
   "outputs": [
    {
     "data": {
      "text/html": [
       "<div>\n",
       "<style scoped>\n",
       "    .dataframe tbody tr th:only-of-type {\n",
       "        vertical-align: middle;\n",
       "    }\n",
       "\n",
       "    .dataframe tbody tr th {\n",
       "        vertical-align: top;\n",
       "    }\n",
       "\n",
       "    .dataframe thead th {\n",
       "        text-align: right;\n",
       "    }\n",
       "</style>\n",
       "<table border=\"1\" class=\"dataframe\">\n",
       "  <thead>\n",
       "    <tr style=\"text-align: right;\">\n",
       "      <th></th>\n",
       "      <th>time</th>\n",
       "      <th>status</th>\n",
       "      <th>age</th>\n",
       "      <th>sex</th>\n",
       "      <th>bun</th>\n",
       "      <th>ca</th>\n",
       "      <th>hb</th>\n",
       "      <th>pcells</th>\n",
       "      <th>protein</th>\n",
       "    </tr>\n",
       "  </thead>\n",
       "  <tbody>\n",
       "    <tr>\n",
       "      <th>0</th>\n",
       "      <td>13</td>\n",
       "      <td>1</td>\n",
       "      <td>66</td>\n",
       "      <td>1</td>\n",
       "      <td>25</td>\n",
       "      <td>10</td>\n",
       "      <td>14.6</td>\n",
       "      <td>18</td>\n",
       "      <td>1</td>\n",
       "    </tr>\n",
       "    <tr>\n",
       "      <th>1</th>\n",
       "      <td>52</td>\n",
       "      <td>0</td>\n",
       "      <td>66</td>\n",
       "      <td>1</td>\n",
       "      <td>13</td>\n",
       "      <td>11</td>\n",
       "      <td>12.0</td>\n",
       "      <td>100</td>\n",
       "      <td>0</td>\n",
       "    </tr>\n",
       "    <tr>\n",
       "      <th>2</th>\n",
       "      <td>6</td>\n",
       "      <td>1</td>\n",
       "      <td>53</td>\n",
       "      <td>2</td>\n",
       "      <td>15</td>\n",
       "      <td>13</td>\n",
       "      <td>11.4</td>\n",
       "      <td>33</td>\n",
       "      <td>1</td>\n",
       "    </tr>\n",
       "    <tr>\n",
       "      <th>3</th>\n",
       "      <td>40</td>\n",
       "      <td>1</td>\n",
       "      <td>69</td>\n",
       "      <td>1</td>\n",
       "      <td>10</td>\n",
       "      <td>10</td>\n",
       "      <td>10.2</td>\n",
       "      <td>30</td>\n",
       "      <td>1</td>\n",
       "    </tr>\n",
       "    <tr>\n",
       "      <th>4</th>\n",
       "      <td>10</td>\n",
       "      <td>1</td>\n",
       "      <td>65</td>\n",
       "      <td>1</td>\n",
       "      <td>20</td>\n",
       "      <td>10</td>\n",
       "      <td>13.2</td>\n",
       "      <td>66</td>\n",
       "      <td>0</td>\n",
       "    </tr>\n",
       "  </tbody>\n",
       "</table>\n",
       "</div>"
      ],
      "text/plain": [
       "   time  status  age  sex  bun  ca    hb  pcells  protein\n",
       "0    13       1   66    1   25  10  14.6      18        1\n",
       "1    52       0   66    1   13  11  12.0     100        0\n",
       "2     6       1   53    2   15  13  11.4      33        1\n",
       "3    40       1   69    1   10  10  10.2      30        1\n",
       "4    10       1   65    1   20  10  13.2      66        0"
      ]
     },
     "execution_count": 3,
     "metadata": {},
     "output_type": "execute_result"
    }
   ],
   "source": [
    "DatOriginal.head()"
   ]
  },
  {
   "cell_type": "markdown",
   "metadata": {},
   "source": [
    "---"
   ]
  },
  {
   "cell_type": "code",
   "execution_count": 4,
   "metadata": {},
   "outputs": [],
   "source": [
    "def ConcordDiscrimPerform(model, dat):\n",
    "\n",
    "    n = len(dat)\n",
    "    LogPartialHazard = model.predict_log_partial_hazard(dat)\n",
    "\n",
    "    # Concordance indeces\n",
    "    cindex = model.concordance_index_\n",
    "\n",
    "    kstat = 0\n",
    "    for i, etai in enumerate(LogPartialHazard[:-1]):\n",
    "        for etaj in LogPartialHazard[i+1:]:\n",
    "            if etai != etaj:\n",
    "                kstat += 1/(1+np.exp(-np.abs(etaj-etai)))\n",
    "    kstat = 2 * kstat / (n*(n-1))\n",
    "\n",
    "    # Predictive ability\n",
    "    dataux = dat.copy()\n",
    "    dataux['NormalScore'] = norm.ppf((rankdata(LogPartialHazard)-3/8) / (n+1/4))\n",
    "    dataux['NormalScore'] = dataux['NormalScore'] / np.sqrt(8/np.pi)\n",
    "\n",
    "    dstat = CoxPHFitter().fit(dataux, \"time\", \"status\", formula=\"NormalScore\").summary[['coef', 'se(coef)']].values[0]\n",
    "\n",
    "    # Explained variance\n",
    "    vP = np.var(LogPartialHazard)\n",
    "    rP = vP / (vP+np.pi**2/6)\n",
    "\n",
    "    d0 = dstat[0] / np.sqrt(8/np.pi)\n",
    "    rD = d0**2 / (d0**2+np.pi**2/6)\n",
    "\n",
    "    return pd.DataFrame(\n",
    "        {\n",
    "            'estimate': ['concordance', 'concordance', 'discrimination', 'performance', 'performance'],\n",
    "            'value': [cindex, kstat, dstat[0], rP, rD],\n",
    "            'std':[None, None, dstat[1], None, None],\n",
    "        },\n",
    "        index=['c_index', 'K_index', 'D_stat', 'R2_P', 'R2_D']\n",
    "    )"
   ]
  },
  {
   "cell_type": "markdown",
   "metadata": {},
   "source": [
    "---"
   ]
  },
  {
   "cell_type": "code",
   "execution_count": 5,
   "metadata": {},
   "outputs": [
    {
     "data": {
      "text/html": [
       "<div>\n",
       "<style scoped>\n",
       "    .dataframe tbody tr th:only-of-type {\n",
       "        vertical-align: middle;\n",
       "    }\n",
       "\n",
       "    .dataframe tbody tr th {\n",
       "        vertical-align: top;\n",
       "    }\n",
       "\n",
       "    .dataframe thead th {\n",
       "        text-align: right;\n",
       "    }\n",
       "</style>\n",
       "<table border=\"1\" class=\"dataframe\">\n",
       "  <thead>\n",
       "    <tr style=\"text-align: right;\">\n",
       "      <th></th>\n",
       "      <th>estimate</th>\n",
       "      <th>value</th>\n",
       "      <th>std</th>\n",
       "    </tr>\n",
       "  </thead>\n",
       "  <tbody>\n",
       "    <tr>\n",
       "      <th>c_index</th>\n",
       "      <td>concordance</td>\n",
       "      <td>0.670</td>\n",
       "      <td>NaN</td>\n",
       "    </tr>\n",
       "    <tr>\n",
       "      <th>K_index</th>\n",
       "      <td>concordance</td>\n",
       "      <td>0.675</td>\n",
       "      <td>NaN</td>\n",
       "    </tr>\n",
       "    <tr>\n",
       "      <th>D_stat</th>\n",
       "      <td>discrimination</td>\n",
       "      <td>0.999</td>\n",
       "      <td>0.351</td>\n",
       "    </tr>\n",
       "    <tr>\n",
       "      <th>R2_P</th>\n",
       "      <td>performance</td>\n",
       "      <td>0.293</td>\n",
       "      <td>NaN</td>\n",
       "    </tr>\n",
       "    <tr>\n",
       "      <th>R2_D</th>\n",
       "      <td>performance</td>\n",
       "      <td>0.192</td>\n",
       "      <td>NaN</td>\n",
       "    </tr>\n",
       "  </tbody>\n",
       "</table>\n",
       "</div>"
      ],
      "text/plain": [
       "               estimate  value    std\n",
       "c_index     concordance  0.670    NaN\n",
       "K_index     concordance  0.675    NaN\n",
       "D_stat   discrimination  0.999  0.351\n",
       "R2_P        performance  0.293    NaN\n",
       "R2_D        performance  0.192    NaN"
      ]
     },
     "execution_count": 5,
     "metadata": {},
     "output_type": "execute_result"
    }
   ],
   "source": [
    "Model = CoxPHFitter().fit(DatOriginal, \"time\", \"status\", formula=\"bun+hb\")\n",
    "\n",
    "ConcordDiscrimPerform(Model, DatOriginal).round(3)"
   ]
  },
  {
   "cell_type": "code",
   "execution_count": 6,
   "metadata": {},
   "outputs": [
    {
     "data": {
      "text/html": [
       "<div>\n",
       "<style scoped>\n",
       "    .dataframe tbody tr th:only-of-type {\n",
       "        vertical-align: middle;\n",
       "    }\n",
       "\n",
       "    .dataframe tbody tr th {\n",
       "        vertical-align: top;\n",
       "    }\n",
       "\n",
       "    .dataframe thead th {\n",
       "        text-align: right;\n",
       "    }\n",
       "</style>\n",
       "<table border=\"1\" class=\"dataframe\">\n",
       "  <thead>\n",
       "    <tr style=\"text-align: right;\">\n",
       "      <th></th>\n",
       "      <th>estimate</th>\n",
       "      <th>value</th>\n",
       "      <th>std</th>\n",
       "    </tr>\n",
       "  </thead>\n",
       "  <tbody>\n",
       "    <tr>\n",
       "      <th>c_index</th>\n",
       "      <td>concordance</td>\n",
       "      <td>0.705</td>\n",
       "      <td>NaN</td>\n",
       "    </tr>\n",
       "    <tr>\n",
       "      <th>K_index</th>\n",
       "      <td>concordance</td>\n",
       "      <td>0.687</td>\n",
       "      <td>NaN</td>\n",
       "    </tr>\n",
       "    <tr>\n",
       "      <th>D_stat</th>\n",
       "      <td>discrimination</td>\n",
       "      <td>1.209</td>\n",
       "      <td>0.342</td>\n",
       "    </tr>\n",
       "    <tr>\n",
       "      <th>R2_P</th>\n",
       "      <td>performance</td>\n",
       "      <td>0.334</td>\n",
       "      <td>NaN</td>\n",
       "    </tr>\n",
       "    <tr>\n",
       "      <th>R2_D</th>\n",
       "      <td>performance</td>\n",
       "      <td>0.259</td>\n",
       "      <td>NaN</td>\n",
       "    </tr>\n",
       "  </tbody>\n",
       "</table>\n",
       "</div>"
      ],
      "text/plain": [
       "               estimate  value    std\n",
       "c_index     concordance  0.705    NaN\n",
       "K_index     concordance  0.687    NaN\n",
       "D_stat   discrimination  1.209  0.342\n",
       "R2_P        performance  0.334    NaN\n",
       "R2_D        performance  0.259    NaN"
      ]
     },
     "execution_count": 6,
     "metadata": {},
     "output_type": "execute_result"
    }
   ],
   "source": [
    "ModelFull = CoxPHFitter().fit(DatOriginal, \"time\", \"status\")\n",
    "\n",
    "ConcordDiscrimPerform(ModelFull, DatOriginal).round(3)"
   ]
  }
 ],
 "metadata": {
  "kernelspec": {
   "display_name": "Python 3",
   "language": "python",
   "name": "python3"
  },
  "language_info": {
   "codemirror_mode": {
    "name": "ipython",
    "version": 3
   },
   "file_extension": ".py",
   "mimetype": "text/x-python",
   "name": "python",
   "nbconvert_exporter": "python",
   "pygments_lexer": "ipython3",
   "version": "3.12.4"
  }
 },
 "nbformat": 4,
 "nbformat_minor": 2
}
