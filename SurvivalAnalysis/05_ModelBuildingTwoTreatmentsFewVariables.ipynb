{
 "cells": [
  {
   "cell_type": "markdown",
   "metadata": {},
   "source": [
    "# Building models to compare two treatments for prostatic cancer"
   ]
  },
  {
   "cell_type": "code",
   "execution_count": 1,
   "metadata": {},
   "outputs": [],
   "source": [
    "import numpy as np\n",
    "import pandas as pd\n",
    "import matplotlib.pyplot as plt\n",
    "\n",
    "from scipy.stats import chi2\n",
    "from lifelines import CoxPHFitter"
   ]
  },
  {
   "cell_type": "markdown",
   "metadata": {},
   "source": [
    "Read the data"
   ]
  },
  {
   "cell_type": "code",
   "execution_count": 3,
   "metadata": {},
   "outputs": [
    {
     "name": "stderr",
     "output_type": "stream",
     "text": [
      "<>:1: SyntaxWarning: invalid escape sequence '\\s'\n",
      "<>:1: SyntaxWarning: invalid escape sequence '\\s'\n",
      "/tmp/ipykernel_3833/1212411937.py:1: SyntaxWarning: invalid escape sequence '\\s'\n",
      "  DatOriginal = pd.read_csv(\"DatasetsMedicalResearch/Comparison of two treatments for prostatic cancer.dat\", sep=\"\\s+\")\n"
     ]
    }
   ],
   "source": [
    "DatOriginal = pd.read_csv(\"DatasetsMedicalResearch/Comparison of two treatments for prostatic cancer.dat\", sep=\"\\s+\")"
   ]
  },
  {
   "cell_type": "code",
   "execution_count": null,
   "metadata": {},
   "outputs": [],
   "source": [
    "DatOriginal.head()"
   ]
  },
  {
   "cell_type": "markdown",
   "metadata": {},
   "source": [
    "Treatment 1 means that the patient was treated with a placebo and 2 means that was treated with DES."
   ]
  },
  {
   "cell_type": "markdown",
   "metadata": {},
   "source": [
    "---"
   ]
  },
  {
   "cell_type": "markdown",
   "metadata": {},
   "source": [
    "Function that calculates the test stadistic and $P$-value to compare two nested models based on the log-likelihood ratio test."
   ]
  },
  {
   "cell_type": "code",
   "execution_count": 4,
   "metadata": {},
   "outputs": [],
   "source": [
    "def LoglikeRatioTest(minus2loglike_model1, minus2loglike_model2, df_model1, df_model2):\n",
    "    # model1 must be nested in model2, i.e. model2 has more variables than model1\n",
    "    test_statistic = minus2loglike_model1 - minus2loglike_model2\n",
    "    p_value = chi2.sf(test_statistic, df_model2-df_model1)\n",
    "    return test_statistic, p_value"
   ]
  },
  {
   "cell_type": "markdown",
   "metadata": {},
   "source": [
    "---"
   ]
  },
  {
   "cell_type": "markdown",
   "metadata": {},
   "source": [
    "The data only has four prognostic variables: age, shb, size, and index.\n",
    "\n",
    "We can create a model for each possible combination of these variables, i.e., we can build 16 models."
   ]
  },
  {
   "cell_type": "code",
   "execution_count": 6,
   "metadata": {},
   "outputs": [],
   "source": [
    "formulas = [\n",
    "    'age', 'shb', 'size', 'index',\n",
    "    'age+shb', 'age+size', 'age+index', 'shb+size', 'shb+index', 'size+index',\n",
    "    'age+shb+size', 'age+shb+index', 'age+size+index', 'shb+size+index',\n",
    "    'age+shb+size+index'\n",
    "]\n",
    "\n",
    "MinusTwoLogLike = []\n",
    "Aic = []\n",
    "DegreesFreedom = []\n",
    "\n",
    "for i,f in enumerate(formulas):\n",
    "\n",
    "    cph = CoxPHFitter()\n",
    "    Model = cph.fit(DatOriginal, 'time', 'status', formula=f)\n",
    "\n",
    "    if i==0:\n",
    "        _ = -2*Model.log_likelihood_ + Model.log_likelihood_ratio_test().test_statistic\n",
    "        MinusTwoLogLike.append(_)\n",
    "        DegreesFreedom.append(0)\n",
    "        Aic.append(_)\n",
    "\n",
    "    MinusTwoLogLike.append(-2*Model.log_likelihood_)\n",
    "    DegreesFreedom.append(len(Model.summary))\n",
    "    Aic.append(Model.AIC_partial_)\n",
    "\n",
    "formulas.insert(0, 'None')\n",
    "\n",
    "ModelSummary = pd.DataFrame({'formula': formulas, '-2log-L': MinusTwoLogLike, 'AIC': Aic, 'df': DegreesFreedom})"
   ]
  },
  {
   "cell_type": "markdown",
   "metadata": {},
   "source": [
    "We can simply select the model with the smallest AIC."
   ]
  },
  {
   "cell_type": "code",
   "execution_count": 9,
   "metadata": {},
   "outputs": [
    {
     "data": {
      "text/html": [
       "<div>\n",
       "<style scoped>\n",
       "    .dataframe tbody tr th:only-of-type {\n",
       "        vertical-align: middle;\n",
       "    }\n",
       "\n",
       "    .dataframe tbody tr th {\n",
       "        vertical-align: top;\n",
       "    }\n",
       "\n",
       "    .dataframe thead th {\n",
       "        text-align: right;\n",
       "    }\n",
       "</style>\n",
       "<table border=\"1\" class=\"dataframe\">\n",
       "  <thead>\n",
       "    <tr style=\"text-align: right;\">\n",
       "      <th></th>\n",
       "      <th>formula</th>\n",
       "      <th>-2log-L</th>\n",
       "      <th>AIC</th>\n",
       "      <th>df</th>\n",
       "    </tr>\n",
       "  </thead>\n",
       "  <tbody>\n",
       "    <tr>\n",
       "      <th>10</th>\n",
       "      <td>size+index</td>\n",
       "      <td>23.533263</td>\n",
       "      <td>27.533263</td>\n",
       "      <td>2</td>\n",
       "    </tr>\n",
       "  </tbody>\n",
       "</table>\n",
       "</div>"
      ],
      "text/plain": [
       "       formula    -2log-L        AIC  df\n",
       "10  size+index  23.533263  27.533263   2"
      ]
     },
     "execution_count": 9,
     "metadata": {},
     "output_type": "execute_result"
    }
   ],
   "source": [
    "ModelSummary[ModelSummary['AIC'] == ModelSummary['AIC'].min()]"
   ]
  },
  {
   "cell_type": "markdown",
   "metadata": {},
   "source": [
    "---"
   ]
  },
  {
   "cell_type": "markdown",
   "metadata": {},
   "source": [
    "Alternatevely, we can follow the next strategy if we have several variables.\n",
    "\n",
    "1. First we fit models that contain each of the variables at a time. The variables that appear important, compared to the Null model are then consider in the subsequent step."
   ]
  },
  {
   "cell_type": "code",
   "execution_count": 25,
   "metadata": {},
   "outputs": [
    {
     "data": {
      "text/html": [
       "<div>\n",
       "<style scoped>\n",
       "    .dataframe tbody tr th:only-of-type {\n",
       "        vertical-align: middle;\n",
       "    }\n",
       "\n",
       "    .dataframe tbody tr th {\n",
       "        vertical-align: top;\n",
       "    }\n",
       "\n",
       "    .dataframe thead th {\n",
       "        text-align: right;\n",
       "    }\n",
       "</style>\n",
       "<table border=\"1\" class=\"dataframe\">\n",
       "  <thead>\n",
       "    <tr style=\"text-align: right;\">\n",
       "      <th></th>\n",
       "      <th>formula</th>\n",
       "      <th>-2log-L</th>\n",
       "      <th>AIC</th>\n",
       "      <th>df</th>\n",
       "    </tr>\n",
       "  </thead>\n",
       "  <tbody>\n",
       "    <tr>\n",
       "      <th>0</th>\n",
       "      <td>None</td>\n",
       "      <td>36.349</td>\n",
       "      <td>36.349</td>\n",
       "      <td>0</td>\n",
       "    </tr>\n",
       "    <tr>\n",
       "      <th>1</th>\n",
       "      <td>age</td>\n",
       "      <td>36.269</td>\n",
       "      <td>38.269</td>\n",
       "      <td>1</td>\n",
       "    </tr>\n",
       "    <tr>\n",
       "      <th>2</th>\n",
       "      <td>shb</td>\n",
       "      <td>36.196</td>\n",
       "      <td>38.196</td>\n",
       "      <td>1</td>\n",
       "    </tr>\n",
       "    <tr>\n",
       "      <th>3</th>\n",
       "      <td>size</td>\n",
       "      <td>29.042</td>\n",
       "      <td>31.042</td>\n",
       "      <td>1</td>\n",
       "    </tr>\n",
       "    <tr>\n",
       "      <th>4</th>\n",
       "      <td>index</td>\n",
       "      <td>29.127</td>\n",
       "      <td>31.127</td>\n",
       "      <td>1</td>\n",
       "    </tr>\n",
       "    <tr>\n",
       "      <th>5</th>\n",
       "      <td>age+shb</td>\n",
       "      <td>36.151</td>\n",
       "      <td>40.151</td>\n",
       "      <td>2</td>\n",
       "    </tr>\n",
       "    <tr>\n",
       "      <th>6</th>\n",
       "      <td>age+size</td>\n",
       "      <td>28.854</td>\n",
       "      <td>32.854</td>\n",
       "      <td>2</td>\n",
       "    </tr>\n",
       "    <tr>\n",
       "      <th>7</th>\n",
       "      <td>age+index</td>\n",
       "      <td>28.760</td>\n",
       "      <td>32.760</td>\n",
       "      <td>2</td>\n",
       "    </tr>\n",
       "    <tr>\n",
       "      <th>8</th>\n",
       "      <td>shb+size</td>\n",
       "      <td>29.019</td>\n",
       "      <td>33.019</td>\n",
       "      <td>2</td>\n",
       "    </tr>\n",
       "    <tr>\n",
       "      <th>9</th>\n",
       "      <td>shb+index</td>\n",
       "      <td>27.981</td>\n",
       "      <td>31.981</td>\n",
       "      <td>2</td>\n",
       "    </tr>\n",
       "    <tr>\n",
       "      <th>10</th>\n",
       "      <td>size+index</td>\n",
       "      <td>23.533</td>\n",
       "      <td>27.533</td>\n",
       "      <td>2</td>\n",
       "    </tr>\n",
       "    <tr>\n",
       "      <th>11</th>\n",
       "      <td>age+shb+size</td>\n",
       "      <td>28.852</td>\n",
       "      <td>34.852</td>\n",
       "      <td>3</td>\n",
       "    </tr>\n",
       "    <tr>\n",
       "      <th>12</th>\n",
       "      <td>age+shb+index</td>\n",
       "      <td>27.893</td>\n",
       "      <td>33.893</td>\n",
       "      <td>3</td>\n",
       "    </tr>\n",
       "    <tr>\n",
       "      <th>13</th>\n",
       "      <td>age+size+index</td>\n",
       "      <td>23.269</td>\n",
       "      <td>29.269</td>\n",
       "      <td>3</td>\n",
       "    </tr>\n",
       "    <tr>\n",
       "      <th>14</th>\n",
       "      <td>shb+size+index</td>\n",
       "      <td>23.508</td>\n",
       "      <td>29.508</td>\n",
       "      <td>3</td>\n",
       "    </tr>\n",
       "    <tr>\n",
       "      <th>15</th>\n",
       "      <td>age+shb+size+index</td>\n",
       "      <td>23.231</td>\n",
       "      <td>31.231</td>\n",
       "      <td>4</td>\n",
       "    </tr>\n",
       "  </tbody>\n",
       "</table>\n",
       "</div>"
      ],
      "text/plain": [
       "               formula  -2log-L     AIC  df\n",
       "0                 None   36.349  36.349   0\n",
       "1                  age   36.269  38.269   1\n",
       "2                  shb   36.196  38.196   1\n",
       "3                 size   29.042  31.042   1\n",
       "4                index   29.127  31.127   1\n",
       "5              age+shb   36.151  40.151   2\n",
       "6             age+size   28.854  32.854   2\n",
       "7            age+index   28.760  32.760   2\n",
       "8             shb+size   29.019  33.019   2\n",
       "9            shb+index   27.981  31.981   2\n",
       "10          size+index   23.533  27.533   2\n",
       "11        age+shb+size   28.852  34.852   3\n",
       "12       age+shb+index   27.893  33.893   3\n",
       "13      age+size+index   23.269  29.269   3\n",
       "14      shb+size+index   23.508  29.508   3\n",
       "15  age+shb+size+index   23.231  31.231   4"
      ]
     },
     "execution_count": 25,
     "metadata": {},
     "output_type": "execute_result"
    }
   ],
   "source": [
    "ModelSummary.round(3)"
   ]
  },
  {
   "cell_type": "code",
   "execution_count": 11,
   "metadata": {},
   "outputs": [
    {
     "data": {
      "text/plain": [
       "[0.7779911444935175,\n",
       " 0.6955516002667974,\n",
       " 0.006867314540372138,\n",
       " 0.007202147273535943]"
      ]
     },
     "execution_count": 11,
     "metadata": {},
     "output_type": "execute_result"
    }
   ],
   "source": [
    "PValues = []\n",
    "\n",
    "for i in [1,2,3,4]:\n",
    "    _, Pvalue = LoglikeRatioTest(ModelSummary.loc[0]['-2log-L'], ModelSummary.loc[i]['-2log-L'], 0, ModelSummary.loc[i]['df'])\n",
    "    PValues.append(Pvalue)\n",
    "\n",
    "np.round(PValues,3)"
   ]
  },
  {
   "cell_type": "markdown",
   "metadata": {},
   "source": [
    "From the previous $P$-values we deduce that only size and index appear to be important."
   ]
  },
  {
   "cell_type": "markdown",
   "metadata": {},
   "source": [
    "2. The variables that appear to be important from step 1 are then fitted together. In the presence of certain variables, others may cease to be important. Those that do not lead to a significant increase in the value of $-2\\log \\hat{L}$ when omittted can be discarded."
   ]
  },
  {
   "cell_type": "code",
   "execution_count": 12,
   "metadata": {},
   "outputs": [
    {
     "data": {
      "text/plain": [
       "(5.508301207881683, 0.018926421220873194)"
      ]
     },
     "execution_count": 12,
     "metadata": {},
     "output_type": "execute_result"
    }
   ],
   "source": [
    "# Comparing model size+index against model size, i.e. omitting index\n",
    "np.round(LoglikeRatioTest(\n",
    "    ModelSummary.loc[3]['-2log-L'],\n",
    "    ModelSummary.loc[10]['-2log-L'],\n",
    "    ModelSummary.loc[3]['df'],\n",
    "    ModelSummary.loc[10]['df']\n",
    "),3)\n",
    "# index should not be omitted"
   ]
  },
  {
   "cell_type": "code",
   "execution_count": 13,
   "metadata": {},
   "outputs": [
    {
     "data": {
      "text/plain": [
       "(5.593801447948362, 0.018024138784460835)"
      ]
     },
     "execution_count": 13,
     "metadata": {},
     "output_type": "execute_result"
    }
   ],
   "source": [
    "# Comparing model size+index against model index, i.e. omitting size\n",
    "np.round(LoglikeRatioTest(\n",
    "    ModelSummary.loc[4]['-2log-L'],\n",
    "    ModelSummary.loc[10]['-2log-L'],\n",
    "    ModelSummary.loc[4]['df'],\n",
    "    ModelSummary.loc[10]['df']\n",
    "),3)\n",
    "# size should not be omitted"
   ]
  },
  {
   "cell_type": "markdown",
   "metadata": {},
   "source": [
    "We can deduce from this analysis that both variables are needed."
   ]
  },
  {
   "cell_type": "markdown",
   "metadata": {},
   "source": [
    "3. Variables that were not important on their own may become important in the presence of others. We added such variables one at a time to our model. Those that reduce $-2\\log\\hat{L}$ significantly are retained in the model."
   ]
  },
  {
   "cell_type": "code",
   "execution_count": 14,
   "metadata": {},
   "outputs": [
    {
     "data": {
      "text/plain": [
       "(0.2639117510255282, 0.6074453762736507)"
      ]
     },
     "execution_count": 14,
     "metadata": {},
     "output_type": "execute_result"
    }
   ],
   "source": [
    "# Comparing model size+index against model size+index+age, i.e. adding age\n",
    "np.round(LoglikeRatioTest(\n",
    "    ModelSummary.loc[10]['-2log-L'],\n",
    "    ModelSummary.loc[13]['-2log-L'],\n",
    "    ModelSummary.loc[10]['df'],\n",
    "    ModelSummary.loc[13]['df']\n",
    "),3)\n",
    "# age should not be added"
   ]
  },
  {
   "cell_type": "code",
   "execution_count": 15,
   "metadata": {},
   "outputs": [
    {
     "data": {
      "text/plain": [
       "(0.02524615760133031, 0.8737552282937574)"
      ]
     },
     "execution_count": 15,
     "metadata": {},
     "output_type": "execute_result"
    }
   ],
   "source": [
    "# Comparing model size+index against model size+index+age, i.e. adding shb\n",
    "np.round(LoglikeRatioTest(\n",
    "    ModelSummary.loc[10]['-2log-L'],\n",
    "    ModelSummary.loc[14]['-2log-L'],\n",
    "    ModelSummary.loc[10]['df'],\n",
    "    ModelSummary.loc[14]['df']\n",
    "),3)\n",
    "# shb should not be added"
   ]
  },
  {
   "cell_type": "markdown",
   "metadata": {},
   "source": [
    "We now consider the treatment effect, and observe if it is significant."
   ]
  },
  {
   "cell_type": "code",
   "execution_count": 16,
   "metadata": {},
   "outputs": [
    {
     "data": {
      "text/plain": [
       "(0.9609384183216783, 0.3269505571758091)"
      ]
     },
     "execution_count": 16,
     "metadata": {},
     "output_type": "execute_result"
    }
   ],
   "source": [
    "cph = CoxPHFitter()\n",
    "ModelTreat = cph.fit(DatOriginal, 'time', 'status', formula='size+index+C(treatment)')\n",
    "\n",
    "np.round(LoglikeRatioTest(\n",
    "    ModelSummary.loc[10]['-2log-L'],\n",
    "    -2*ModelTreat.log_likelihood_,\n",
    "    ModelSummary.loc[10]['df'],\n",
    "    len(ModelTreat.summary)\n",
    "),3)"
   ]
  },
  {
   "cell_type": "markdown",
   "metadata": {},
   "source": [
    "If the possibility of interactions between the treatment and other explanatory variables has not been discounted, these must be considered before the treatment effect can be interpreted"
   ]
  },
  {
   "cell_type": "code",
   "execution_count": 17,
   "metadata": {},
   "outputs": [
    {
     "data": {
      "text/plain": [
       "(2.704531810062317, 0.2586535118445922)"
      ]
     },
     "execution_count": 17,
     "metadata": {},
     "output_type": "execute_result"
    }
   ],
   "source": [
    "cph = CoxPHFitter()\n",
    "ModelTsize = cph.fit(DatOriginal, 'time', 'status', formula='size+index+C(treatment)+size*C(treatment)')\n",
    "\n",
    "np.round(LoglikeRatioTest(\n",
    "    ModelSummary.loc[10]['-2log-L'],\n",
    "    -2*ModelTsize.log_likelihood_,\n",
    "    ModelSummary.loc[10]['df'],\n",
    "    len(ModelTsize.summary)\n",
    "),3)"
   ]
  },
  {
   "cell_type": "code",
   "execution_count": 19,
   "metadata": {},
   "outputs": [
    {
     "name": "stderr",
     "output_type": "stream",
     "text": [
      "/home/dmitri/.local/lib/python3.12/site-packages/lifelines/fitters/coxph_fitter.py:1614: ConvergenceWarning: Newton-Raphson failed to converge sufficiently. Please see the following tips in the lifelines documentation: https://lifelines.readthedocs.io/en/latest/Examples.html#problems-with-convergence-in-the-cox-proportional-hazard-model\n",
      "  warnings.warn(\n"
     ]
    },
    {
     "data": {
      "text/plain": [
       "(1.76222161761849, 0.4143224229741673)"
      ]
     },
     "execution_count": 19,
     "metadata": {},
     "output_type": "execute_result"
    }
   ],
   "source": [
    "cph = CoxPHFitter()\n",
    "ModelTindex = cph.fit(DatOriginal, 'time', 'status', formula='size+index+C(treatment)+index*C(treatment)')\n",
    "\n",
    "np.round(LoglikeRatioTest(\n",
    "    ModelSummary.loc[10]['-2log-L'],\n",
    "    -2*ModelTindex.log_likelihood_,\n",
    "    ModelSummary.loc[10]['df'],\n",
    "    len(ModelTindex.summary)\n",
    "),3)"
   ]
  },
  {
   "cell_type": "code",
   "execution_count": 20,
   "metadata": {},
   "outputs": [
    {
     "name": "stderr",
     "output_type": "stream",
     "text": [
      "/home/dmitri/.local/lib/python3.12/site-packages/lifelines/fitters/coxph_fitter.py:1614: ConvergenceWarning: Newton-Raphson failed to converge sufficiently. Please see the following tips in the lifelines documentation: https://lifelines.readthedocs.io/en/latest/Examples.html#problems-with-convergence-in-the-cox-proportional-hazard-model\n",
      "  warnings.warn(\n"
     ]
    },
    {
     "data": {
      "text/plain": [
       "(3.593507091854004, 0.3088355255951053)"
      ]
     },
     "execution_count": 20,
     "metadata": {},
     "output_type": "execute_result"
    }
   ],
   "source": [
    "cph = CoxPHFitter()\n",
    "ModelTsizeTindex = cph.fit(DatOriginal, 'time', 'status', formula='size+index+C(treatment)+size*C(treatment)+index*C(treatment)')\n",
    "\n",
    "np.round(LoglikeRatioTest(\n",
    "    ModelSummary.loc[10]['-2log-L'],\n",
    "    -2*ModelTsizeTindex.log_likelihood_,\n",
    "    ModelSummary.loc[10]['df'],\n",
    "    len(ModelTsizeTindex.summary)\n",
    "),3)"
   ]
  },
  {
   "cell_type": "markdown",
   "metadata": {},
   "source": [
    "We conclude that treatment with DES does not appear to affect the hazard of death."
   ]
  },
  {
   "cell_type": "markdown",
   "metadata": {},
   "source": [
    "---"
   ]
  },
  {
   "cell_type": "markdown",
   "metadata": {},
   "source": [
    "Notice that we receive a warning message of not convergence of Newton-Raphson. If we plot the models, we will observe that they are overfitted. So we should not include the mixed terms. These is because in the data there are only 6 confirmed deaths."
   ]
  },
  {
   "cell_type": "code",
   "execution_count": 21,
   "metadata": {},
   "outputs": [
    {
     "data": {
      "text/plain": [
       "6"
      ]
     },
     "execution_count": 21,
     "metadata": {},
     "output_type": "execute_result"
    }
   ],
   "source": [
    "DatOriginal.status.sum()"
   ]
  },
  {
   "cell_type": "code",
   "execution_count": 22,
   "metadata": {},
   "outputs": [
    {
     "data": {
      "text/plain": [
       "<Axes: xlabel='log(HR) (95% CI)'>"
      ]
     },
     "execution_count": 22,
     "metadata": {},
     "output_type": "execute_result"
    },
    {
     "data": {
      "image/png": "[encoded data removed]",
      "text/plain": [
       "<Figure size 400x200 with 1 Axes>"
      ]
     },
     "metadata": {},
     "output_type": "display_data"
    }
   ],
   "source": [
    "plt.figure(figsize=(4,2))\n",
    "ModelTsize.plot()"
   ]
  },
  {
   "cell_type": "code",
   "execution_count": 23,
   "metadata": {},
   "outputs": [
    {
     "data": {
      "text/plain": [
       "<Axes: xlabel='log(HR) (95% CI)'>"
      ]
     },
     "execution_count": 23,
     "metadata": {},
     "output_type": "execute_result"
    },
    {
     "data": {
      "image/png": "[encoded data removed]",
      "text/plain": [
       "<Figure size 400x200 with 1 Axes>"
      ]
     },
     "metadata": {},
     "output_type": "display_data"
    }
   ],
   "source": [
    "plt.figure(figsize=(4,2))\n",
    "ModelTindex.plot()"
   ]
  },
  {
   "cell_type": "code",
   "execution_count": 24,
   "metadata": {},
   "outputs": [
    {
     "data": {
      "text/plain": [
       "<Axes: xlabel='log(HR) (95% CI)'>"
      ]
     },
     "execution_count": 24,
     "metadata": {},
     "output_type": "execute_result"
    },
    {
     "data": {
      "image/png": "[encoded data removed]",
      "text/plain": [
       "<Figure size 400x200 with 1 Axes>"
      ]
     },
     "metadata": {},
     "output_type": "display_data"
    }
   ],
   "source": [
    "plt.figure(figsize=(4,2))\n",
    "ModelTsizeTindex.plot()"
   ]
  }
 ],
 "metadata": {
  "kernelspec": {
   "display_name": "Python 3",
   "language": "python",
   "name": "python3"
  },
  "language_info": {
   "codemirror_mode": {
    "name": "ipython",
    "version": 3
   },
   "file_extension": ".py",
   "mimetype": "text/x-python",
   "name": "python",
   "nbconvert_exporter": "python",
   "pygments_lexer": "ipython3",
   "version": "3.12.4"
  }
 },
 "nbformat": 4,
 "nbformat_minor": 2
}
