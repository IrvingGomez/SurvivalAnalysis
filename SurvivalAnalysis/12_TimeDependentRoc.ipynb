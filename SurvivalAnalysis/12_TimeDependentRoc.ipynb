{
 "cells": [
  {
   "cell_type": "markdown",
   "metadata": {},
   "source": [
    "# Time-dependent ROC"
   ]
  },
  {
   "cell_type": "code",
   "execution_count": 1,
   "metadata": {},
   "outputs": [],
   "source": [
    "import numpy as np\n",
    "import pandas as pd\n",
    "\n",
    "import matplotlib.pyplot as plt\n",
    "\n",
    "from sklearn.metrics import auc\n",
    "from lifelines import KaplanMeierFitter, CoxPHFitter"
   ]
  },
  {
   "cell_type": "markdown",
   "metadata": {},
   "source": [
    "Read the data"
   ]
  },
  {
   "cell_type": "code",
   "execution_count": 2,
   "metadata": {},
   "outputs": [
    {
     "name": "stderr",
     "output_type": "stream",
     "text": [
      "<>:1: SyntaxWarning: invalid escape sequence '\\s'\n",
      "<>:1: SyntaxWarning: invalid escape sequence '\\s'\n",
      "/tmp/ipykernel_3688/843039072.py:1: SyntaxWarning: invalid escape sequence '\\s'\n",
      "  DatOriginal = pd.read_csv(\"DatasetsMedicalResearch/Survival of multiple myeloma patients.dat\", sep=\"\\s+\")\n"
     ]
    }
   ],
   "source": [
    "DatOriginal = pd.read_csv(\"DatasetsMedicalResearch/Survival of multiple myeloma patients.dat\", sep=\"\\s+\")\n",
    "DatOriginal = DatOriginal.drop('patient', axis=1)"
   ]
  },
  {
   "cell_type": "code",
   "execution_count": 3,
   "metadata": {},
   "outputs": [
    {
     "data": {
      "text/plain": [
       "<lifelines.KaplanMeierFitter:\"KM_estimate\", fitted with 48 total observations, 12 right-censored observations>"
      ]
     },
     "execution_count": 3,
     "metadata": {},
     "output_type": "execute_result"
    }
   ],
   "source": [
    "Model = CoxPHFitter().fit(DatOriginal, \"time\", \"status\", formula=\"bun+hb\")\n",
    "LogPartialHazard = Model.predict_log_partial_hazard(DatOriginal)\n",
    "RiskScores = LogPartialHazard.sort_values()\n",
    "\n",
    "KM = KaplanMeierFitter()\n",
    "KM.fit(DatOriginal['time'], DatOriginal['status'])"
   ]
  },
  {
   "cell_type": "code",
   "execution_count": 4,
   "metadata": {},
   "outputs": [],
   "source": [
    "def TimeDependROC(t):\n",
    "    sens_list = []\n",
    "    spec_list = []\n",
    "\n",
    "    for c in RiskScores[:-1]:\n",
    "\n",
    "        Dat1 = DatOriginal[LogPartialHazard>c]\n",
    "        km1 = KaplanMeierFitter()\n",
    "        km1.fit(Dat1['time'], Dat1['status'])\n",
    "\n",
    "        Dat2 = DatOriginal[LogPartialHazard<=c]\n",
    "        km2 = KaplanMeierFitter()\n",
    "        km2.fit(Dat2['time'], Dat2['status'])\n",
    "\n",
    "        p = len(Dat2) / len(DatOriginal)\n",
    "        Surv_t = KM.survival_function_at_times(t)\n",
    "\n",
    "        sens = (1 - km1.survival_function_at_times(t)) * (1-p) / (1-Surv_t)\n",
    "        spec = km2.survival_function_at_times(t) * p / Surv_t\n",
    "\n",
    "        sens_list.append(sens.values[0])\n",
    "        spec_list.append(spec.values[0])\n",
    "\n",
    "    sens_list = np.array(sens_list)\n",
    "    spec_list = np.array(spec_list)\n",
    "\n",
    "    roc = pd.DataFrame({'Sens': sens_list, 'Spec':spec_list})\n",
    "\n",
    "    roc.loc[roc['Sens']<0, 'Sens'] = 0\n",
    "    roc.loc[roc['Sens']>1, 'Sens'] = 1\n",
    "\n",
    "    roc.loc[roc['Spec']<0, 'Spec'] = 0\n",
    "    roc.loc[roc['Spec']>1, 'Spec'] = 1\n",
    "\n",
    "    roc['1-Spec'] = 1-roc['Spec']\n",
    "    roc = roc.sort_values('1-Spec').reset_index(drop=True)\n",
    "\n",
    "    return roc"
   ]
  },
  {
   "cell_type": "code",
   "execution_count": 5,
   "metadata": {},
   "outputs": [
    {
     "data": {
      "image/png": "[encoded data removed]",
      "text/plain": [
       "<Figure size 640x480 with 1 Axes>"
      ]
     },
     "metadata": {},
     "output_type": "display_data"
    }
   ],
   "source": [
    "Times = [6,12,18,24]\n",
    "\n",
    "Auc_list = []\n",
    "\n",
    "for t in Times:\n",
    "    Roc = TimeDependROC(t)\n",
    "\n",
    "    Auc_list.append(auc(Roc['1-Spec'], Roc['Sens']))\n",
    "\n",
    "    plt.step(Roc['1-Spec'], Roc['Sens'], where='post', label=\"t={}\".format(t))\n",
    "    plt.plot([0,1], [0,1], color='k')\n",
    "    plt.legend()\n",
    "\n",
    "Auc = pd.DataFrame({'AUC':Auc_list}, index=Times)"
   ]
  },
  {
   "cell_type": "code",
   "execution_count": 6,
   "metadata": {},
   "outputs": [
    {
     "data": {
      "text/html": [
       "<div>\n",
       "<style scoped>\n",
       "    .dataframe tbody tr th:only-of-type {\n",
       "        vertical-align: middle;\n",
       "    }\n",
       "\n",
       "    .dataframe tbody tr th {\n",
       "        vertical-align: top;\n",
       "    }\n",
       "\n",
       "    .dataframe thead th {\n",
       "        text-align: right;\n",
       "    }\n",
       "</style>\n",
       "<table border=\"1\" class=\"dataframe\">\n",
       "  <thead>\n",
       "    <tr style=\"text-align: right;\">\n",
       "      <th></th>\n",
       "      <th>AUC</th>\n",
       "    </tr>\n",
       "  </thead>\n",
       "  <tbody>\n",
       "    <tr>\n",
       "      <th>6</th>\n",
       "      <td>0.7553</td>\n",
       "    </tr>\n",
       "    <tr>\n",
       "      <th>12</th>\n",
       "      <td>0.6883</td>\n",
       "    </tr>\n",
       "    <tr>\n",
       "      <th>18</th>\n",
       "      <td>0.6844</td>\n",
       "    </tr>\n",
       "    <tr>\n",
       "      <th>24</th>\n",
       "      <td>0.5954</td>\n",
       "    </tr>\n",
       "  </tbody>\n",
       "</table>\n",
       "</div>"
      ],
      "text/plain": [
       "       AUC\n",
       "6   0.7553\n",
       "12  0.6883\n",
       "18  0.6844\n",
       "24  0.5954"
      ]
     },
     "execution_count": 6,
     "metadata": {},
     "output_type": "execute_result"
    }
   ],
   "source": [
    "Auc.round(4)"
   ]
  }
 ],
 "metadata": {
  "kernelspec": {
   "display_name": "Python 3",
   "language": "python",
   "name": "python3"
  },
  "language_info": {
   "codemirror_mode": {
    "name": "ipython",
    "version": 3
   },
   "file_extension": ".py",
   "mimetype": "text/x-python",
   "name": "python",
   "nbconvert_exporter": "python",
   "pygments_lexer": "ipython3",
   "version": "3.12.5"
  }
 },
 "nbformat": 4,
 "nbformat_minor": 2
}
